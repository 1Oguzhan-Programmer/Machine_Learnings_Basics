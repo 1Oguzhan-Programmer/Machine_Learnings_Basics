{
 "cells": [
  {
   "cell_type": "markdown",
   "id": "80d8544c-45e4-4bde-8288-29fe6f4ceb6b",
   "metadata": {},
   "source": [
    "                                    # Multiple Linear Regression (Multi Lineer Regresyon)\n",
    "\n",
    "# Multiple Lineer Regresyon: y = a + b1x1 + b2x2 + b3x3  denklemindeki a ve b (i) asyılarının hesaplanmasıdır.  \n",
    "# Multiple Linear Regression: It is the calculation of the numbers a and b (i) in the equation y = a + b1x1 + b2x2 + b3x3.\n",
    "\n",
    "\n",
    "# Bız python'a örnek veri setimizi verdiğimizde python bizim için a ve b (i) değerlerini hesaplar ve yeni X değerlerimizi için Y'yi bize hesaplayıp sonuç olarak verecek fonksiyonu üretir.\n",
    "\n",
    "# When we give our sample data set to Python, Python calculates the a and b (i) values ​​for us and produces the function that will calculate Y for our new X values ​​and give us the result.\n",
    "\n",
    "# Minimum iki tane bağımsız değer olmalı.\n",
    "# There must be at least two independent values.                     ( i = Kat sayı anlamında.)\n"
   ]
  },
  {
   "cell_type": "markdown",
   "id": "d1600210-e015-47fc-a986-968cc1bcb183",
   "metadata": {},
   "source": [
    "# Buradaki projede amacımız 3 adet konut için yapay zeka kullanarak tahmini satış fiyatını bulucaz\n",
    "\n",
    "# - 1.Konut: Alan: 230 m2 4-oda bina yaşı : 10\n",
    "# - 2.Konut: Alan: 230 m2 6-oda bina yaşı : 0\n",
    "# - 3.Konut: Alan: 355 m2 3-oda bina yaşı : 20\n",
    "\n",
    "\n",
    "# In this project, our aim is to find the estimated sales price for 3 residences using artificial intelligence.\n",
    "\n",
    "# - 1st Residence: Area: 230 m2 4-room building age: 10\n",
    "# - 2nd Residence: Area: 230 m2 6-room building age: 0\n",
    "# - 3rd Residence: Area: 355 m2 3-room building age: 20"
   ]
  },
  {
   "cell_type": "markdown",
   "id": "19e230c2-1e1e-431b-907e-4d666b1f67b5",
   "metadata": {},
   "source": [
    "# Multiple Linear Regression'da birden fazla bağımsız (independent) değişkene karşılık bir bağımlı (depented) değişkeni bulunur. \n",
    "\n",
    "\n",
    "# Linear Regression veriler arasında var olan korelasyonu (ilişkiyi) kullanarak yeni gelecek verileri tahmin etme modelidir. Burada makine öğrenimi bize veriler arasındaki bu ilişkiyi belirlememize yardımcı olur ve bu sayede yeni verileri tahmin edebiliriz. \n",
    "\n",
    "\n",
    "# In Multiple Linear Regression, there is one dependent variable for more than one independent variable.\n",
    "\n",
    "\n",
    "# Linear Regression is a model of predicting new future data by using the existing correlation (relationship) between the data. Here machine learning helps us identify this relationship between data and thus we can predict new data.\n"
   ]
  },
  {
   "cell_type": "code",
   "execution_count": 7,
   "id": "ddea8421-40d3-4f3a-94c4-62192d06cdcb",
   "metadata": {},
   "outputs": [],
   "source": [
    "import pandas as pd\n",
    "import matplotlib.pyplot as plt\n",
    "\n",
    "# sklearn library\n",
    "from sklearn import linear_model\n",
    "\n",
    "# Veri setimizi import ediyoruz, ayraç olarak noktalı virgül olduğu için bunu belirtiyoruz.\n",
    "# We import our data set, we specify this because there is a semicolon as a separator.\n",
    "\n",
    "df =pd.read_csv(\"multilinearregression.csv\", sep = \";\")"
   ]
  },
  {
   "cell_type": "code",
   "execution_count": 9,
   "id": "a44f70a3-b9c1-4505-b6a1-496f7f582a32",
   "metadata": {},
   "outputs": [
    {
     "data": {
      "text/html": [
       "<div>\n",
       "<style scoped>\n",
       "    .dataframe tbody tr th:only-of-type {\n",
       "        vertical-align: middle;\n",
       "    }\n",
       "\n",
       "    .dataframe tbody tr th {\n",
       "        vertical-align: top;\n",
       "    }\n",
       "\n",
       "    .dataframe thead th {\n",
       "        text-align: right;\n",
       "    }\n",
       "</style>\n",
       "<table border=\"1\" class=\"dataframe\">\n",
       "  <thead>\n",
       "    <tr style=\"text-align: right;\">\n",
       "      <th></th>\n",
       "      <th>alan</th>\n",
       "      <th>odasayisi</th>\n",
       "      <th>binayasi</th>\n",
       "      <th>fiyat</th>\n",
       "    </tr>\n",
       "  </thead>\n",
       "  <tbody>\n",
       "    <tr>\n",
       "      <th>0</th>\n",
       "      <td>180</td>\n",
       "      <td>5</td>\n",
       "      <td>10</td>\n",
       "      <td>510000</td>\n",
       "    </tr>\n",
       "    <tr>\n",
       "      <th>1</th>\n",
       "      <td>225</td>\n",
       "      <td>4</td>\n",
       "      <td>18</td>\n",
       "      <td>508000</td>\n",
       "    </tr>\n",
       "    <tr>\n",
       "      <th>2</th>\n",
       "      <td>260</td>\n",
       "      <td>3</td>\n",
       "      <td>2</td>\n",
       "      <td>548000</td>\n",
       "    </tr>\n",
       "    <tr>\n",
       "      <th>3</th>\n",
       "      <td>320</td>\n",
       "      <td>6</td>\n",
       "      <td>10</td>\n",
       "      <td>650000</td>\n",
       "    </tr>\n",
       "    <tr>\n",
       "      <th>4</th>\n",
       "      <td>335</td>\n",
       "      <td>4</td>\n",
       "      <td>9</td>\n",
       "      <td>628000</td>\n",
       "    </tr>\n",
       "    <tr>\n",
       "      <th>5</th>\n",
       "      <td>345</td>\n",
       "      <td>5</td>\n",
       "      <td>14</td>\n",
       "      <td>632000</td>\n",
       "    </tr>\n",
       "    <tr>\n",
       "      <th>6</th>\n",
       "      <td>355</td>\n",
       "      <td>3</td>\n",
       "      <td>0</td>\n",
       "      <td>680000</td>\n",
       "    </tr>\n",
       "    <tr>\n",
       "      <th>7</th>\n",
       "      <td>400</td>\n",
       "      <td>4</td>\n",
       "      <td>10</td>\n",
       "      <td>725000</td>\n",
       "    </tr>\n",
       "  </tbody>\n",
       "</table>\n",
       "</div>"
      ],
      "text/plain": [
       "   alan  odasayisi  binayasi   fiyat\n",
       "0   180          5        10  510000\n",
       "1   225          4        18  508000\n",
       "2   260          3         2  548000\n",
       "3   320          6        10  650000\n",
       "4   335          4         9  628000\n",
       "5   345          5        14  632000\n",
       "6   355          3         0  680000\n",
       "7   400          4        10  725000"
      ]
     },
     "execution_count": 9,
     "metadata": {},
     "output_type": "execute_result"
    }
   ],
   "source": [
    "# veri setimizi görelim ve doğru import rttiğimizi kontrol edelim.\n",
    "# Let's see our data set and check that we imported it correctly.\n",
    "\n",
    "df"
   ]
  },
  {
   "cell_type": "code",
   "execution_count": 23,
   "id": "18b92628-bbac-4775-85f1-13f6e7df4239",
   "metadata": {},
   "outputs": [
    {
     "name": "stderr",
     "output_type": "stream",
     "text": [
      "/home/ubuntu26/anaconda3/lib/python3.12/site-packages/sklearn/base.py:493: UserWarning: X does not have valid feature names, but LinearRegression was fitted with feature names\n",
      "  warnings.warn(\n"
     ]
    },
    {
     "data": {
      "text/plain": [
       "array([530243.29284619])"
      ]
     },
     "execution_count": 23,
     "metadata": {},
     "output_type": "execute_result"
    }
   ],
   "source": [
    "# Linear regression modeli tanımlıyoruz.\n",
    "# We define a linear regression model.\n",
    "\n",
    "reg = linear_model.LinearRegression()\n",
    "reg.fit(df[[\"alan\", \"odasayisi\", \"binayasi\"]], df[\"fiyat\"])\n",
    "\n",
    "# Prediction (Tahmin) yapalım.\n",
    "# Let's take a guess.\n",
    "\n",
    "reg.predict([[230,4,10]])      #230 m2, 4 oda, bina yaşı 10."
   ]
  },
  {
   "cell_type": "code",
   "execution_count": 28,
   "id": "c4f70d54-1d79-467f-9811-59a8757fcc1b",
   "metadata": {},
   "outputs": [],
   "source": [
    "# şimdi b1, b2, b3'ü hesaplayalım\n",
    "# now let's calculate b1, b2, b3"
   ]
  },
  {
   "cell_type": "raw",
   "id": "0eb6f50e-03aa-458a-975d-2b50fc70e51b",
   "metadata": {},
   "source": [
    "reg.coef_"
   ]
  },
  {
   "cell_type": "code",
   "execution_count": 30,
   "id": "873df4fe-6cbd-4fde-8a17-3183901836ec",
   "metadata": {},
   "outputs": [
    {
     "data": {
      "text/plain": [
       "262365.15030320536"
      ]
     },
     "execution_count": 30,
     "metadata": {},
     "output_type": "execute_result"
    }
   ],
   "source": [
    "# Sabit değeri hesapla.\n",
    "# Calculate constant value.\n",
    "\n",
    "reg.intercept_"
   ]
  },
  {
   "cell_type": "code",
   "execution_count": 32,
   "id": "a9b73e3b-7f8b-460f-ac29-e1464f90a1fd",
   "metadata": {},
   "outputs": [
    {
     "data": {
      "text/plain": [
       "530243.292846188"
      ]
     },
     "execution_count": 32,
     "metadata": {},
     "output_type": "execute_result"
    }
   ],
   "source": [
    "# bir örnekle tekrar açıklayalım.\n",
    "\n",
    "# formül =>  y = a + b1x1 + b2x2 + b3x3 + . . .  \n",
    "\n",
    "\n",
    "a = reg.intercept_\n",
    "b1 = reg.coef_[0]\n",
    "b2 = reg.coef_[1]\n",
    "b3 = reg.coef_[2]\n",
    "\n",
    "x1 = 230     # metrekare\n",
    "x2 = 4       # oda sayısı\n",
    "x3 = 10      # bina yaşı\n",
    "\n",
    "y = a + b1*x1 + b2*x2 + b3*x3\n",
    "\n",
    "y\n"
   ]
  },
  {
   "cell_type": "code",
   "execution_count": null,
   "id": "d2c28484-c84c-4db4-89a6-8264cfcb4a91",
   "metadata": {},
   "outputs": [],
   "source": [
    "# Veri seti ne kadar  büyükse verinin doğruluğu o kadar yüksektir."
   ]
  }
 ],
 "metadata": {
  "kernelspec": {
   "display_name": "Python 3 (ipykernel)",
   "language": "python",
   "name": "python3"
  },
  "language_info": {
   "codemirror_mode": {
    "name": "ipython",
    "version": 3
   },
   "file_extension": ".py",
   "mimetype": "text/x-python",
   "name": "python",
   "nbconvert_exporter": "python",
   "pygments_lexer": "ipython3",
   "version": "3.12.4"
  }
 },
 "nbformat": 4,
 "nbformat_minor": 5
}
