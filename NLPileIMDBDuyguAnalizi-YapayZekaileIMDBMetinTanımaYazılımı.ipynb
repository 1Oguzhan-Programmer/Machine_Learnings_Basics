{
 "cells": [
  {
   "cell_type": "markdown",
   "id": "88d23fdb-a73d-4fbc-84b8-84f47860af29",
   "metadata": {},
   "source": [
    "                         # NLP ile IMDB Duygu Analizi - Yapay Zeka ile IMDB Metin Tanıma Yazılımı \n",
    "                         # (# IMDB Sentiment Analysis with NLP - IMDB Text Recognition Software with Artificial Intelligence)\n",
    "\n",
    "\n",
    "# Bu proje ile NLP konseptini kullanarak duygu analiz yazılımı geliştireceğiz. Bu çalışmada Google'a ait bir platform olan Kaggle platformundan elde edilen veri seti kullanacağız.\n",
    "\n",
    "# Bu veri seti ile gelen İngilizce IMDB film yorumlarını bu projede geliştireceğimiz yapay zeka yazılımımız sayesinde pozitif veya negatif yorumları otomatik bir şekilde çıkartabileceğiz.\n",
    "\n",
    "# Bu proje ile NLP konseptini teoriye boğulmadan çok kısa sürede öğrenmiş olacağız.\n",
    "\n",
    "\n",
    "\n",
    "# With this project, we will develop sentiment analysis software using the NLP concept. In this study, we will use the dataset obtained from the Kaggle platform, a platform owned by Google.\n",
    "\n",
    "# With this dataset, we will be able to automatically extract positive or negative comments from the English IMDB movie reviews that come with this dataset, thanks to our artificial intelligence software that we will develop in this project.\n",
    "\n",
    "# With this project, we will learn the NLP concept in a very short time without getting bogged down in theory.\n"
   ]
  },
  {
   "cell_type": "code",
   "execution_count": 91,
   "id": "cd8cc66a-f7c5-428b-bc37-0d92aed9544c",
   "metadata": {},
   "outputs": [],
   "source": [
    "import numpy as np \n",
    "import pandas as pd\n",
    "import matplotlib.pyplot as plt\n",
    "from sklearn.feature_extraction.text import CountVectorizer\n",
    "from sklearn.ensemble import RandomForestClassifier\n",
    "from sklearn.metrics import roc_auc_score \n",
    "from bs4 import BeautifulSoup\n",
    "import re\n",
    "import nltk\n",
    "from sklearn.model_selection import train_test_split\n",
    "from nltk.corpus import stopwords"
   ]
  },
  {
   "cell_type": "code",
   "execution_count": 92,
   "id": "02342efa-2886-45dd-aa72-7fe0f68f837a",
   "metadata": {},
   "outputs": [],
   "source": [
    "# CountVectorizer NLP için kullanılan bir modüldür.\n",
    "# CountVectorizer is a module used for NLP.\n",
    "\n",
    "# Veri setlerimizi yüklüyoruz...\n",
    "# Loading our datasets...\n",
    "df = pd.read_csv(\"NLPlabeledData.tsv\", delimiter=\"\\t\", quoting=3)\n"
   ]
  },
  {
   "cell_type": "markdown",
   "id": "305bb849-8701-4ef9-b059-59c4939796d1",
   "metadata": {},
   "source": [
    "# `delimiter=\"\\t\"` ve `quoting=3` parametreleri, `pd.read_csv()` fonksiyonu kullanılarak bir dosya okunduğunda dosyanın nasıl işleneceğini belirler. İşte her birinin anlamı:\n",
    "\n",
    "# 1. **delimiter=\"\\t\"**:\n",
    " #  - Bu parametre, verilerin hangi karakterle ayrıldığını belirtir. `\"\\t\"` karakteri, sekme (tab) karakterini ifade eder. Yani, bu kod, sekmelerle ayrılmış bir dosyayı okuduğunuzu belirtir. Bu durumda, dosya içindeki her bir satırdaki veriler sekmelerle ayrılmıştır.\n",
    "\n",
    "# 2. **quoting=3**:\n",
    "  # - Bu parametre, alıntıların nasıl işleneceğini kontrol eder. Pandas'ta `quoting` parametresi için birkaç farklı değer vardır. `3`, #`csv.QUOTE_NONE` değerine karşılık gelir. Bu, dosyada alıntı karakterleri kullanılmadığını ve bu nedenle alıntıların göz ardı edilmesi gerektiğini belirtir. Yani, eğer verilerinizde çift tırnak (`\"`) ya da tek tırnak (`'`) ile çevrelenmiş metin yoksa, bu ayar uygundur.\n",
    "\n",
    "# Bu iki parametre, dosyadan veri okuma işleminin doğru bir şekilde gerçekleştirilmesi için önemlidir. Dosyanızın yapısına uygun ayarları kullanarak verilerinizi doğru bir şekilde yükleyebilirsiniz. \n",
    "\n",
    "\n",
    "\n",
    "\n",
    "\n",
    "# The `delimiter=\"\\t\"` and `quoting=3` parameters determine how a file is handled when it is read using the `pd.read_csv()` function. Here's what each of them means:\n",
    "\n",
    "# 1. **delimiter=\"\\t\"**:\n",
    "# - This parameter specifies what character is used to separate the data. The `\"\\t\"` character represents the tab character. So, this code indicates that you are reading a tab-delimited file. In this case, the data on each line in the file is separated by tabs.\n",
    "\n",
    "# 2. **quoting=3**:\n",
    "# - This parameter controls how quotes are handled. There are several different values ​​for the `quoting` parameter in Pandas. `3` corresponds to the #`csv.QUOTE_NONE` value. This indicates that the file does not use quote characters and therefore quotes should be ignored. This means that if your data does not contain text surrounded by double quotes (`\"`) or single quotes (`'`), this setting is appropriate.\n",
    "\n",
    "# These two parameters are important for the correct reading of data from the file. You can load your data correctly by using the settings appropriate to the structure of your file. "
   ]
  },
  {
   "cell_type": "code",
   "execution_count": 94,
   "id": "9963cc33-8a20-4a3f-b43f-c60af01acd29",
   "metadata": {},
   "outputs": [
    {
     "data": {
      "text/html": [
       "<div>\n",
       "<style scoped>\n",
       "    .dataframe tbody tr th:only-of-type {\n",
       "        vertical-align: middle;\n",
       "    }\n",
       "\n",
       "    .dataframe tbody tr th {\n",
       "        vertical-align: top;\n",
       "    }\n",
       "\n",
       "    .dataframe thead th {\n",
       "        text-align: right;\n",
       "    }\n",
       "</style>\n",
       "<table border=\"1\" class=\"dataframe\">\n",
       "  <thead>\n",
       "    <tr style=\"text-align: right;\">\n",
       "      <th></th>\n",
       "      <th>id</th>\n",
       "      <th>sentiment</th>\n",
       "      <th>review</th>\n",
       "    </tr>\n",
       "  </thead>\n",
       "  <tbody>\n",
       "    <tr>\n",
       "      <th>0</th>\n",
       "      <td>\"5814_8\"</td>\n",
       "      <td>1</td>\n",
       "      <td>\"With all this stuff going down at the moment ...</td>\n",
       "    </tr>\n",
       "    <tr>\n",
       "      <th>1</th>\n",
       "      <td>\"2381_9\"</td>\n",
       "      <td>1</td>\n",
       "      <td>\"\\\"The Classic War of the Worlds\\\" by Timothy ...</td>\n",
       "    </tr>\n",
       "    <tr>\n",
       "      <th>2</th>\n",
       "      <td>\"7759_3\"</td>\n",
       "      <td>0</td>\n",
       "      <td>\"The film starts with a manager (Nicholas Bell...</td>\n",
       "    </tr>\n",
       "    <tr>\n",
       "      <th>3</th>\n",
       "      <td>\"3630_4\"</td>\n",
       "      <td>0</td>\n",
       "      <td>\"It must be assumed that those who praised thi...</td>\n",
       "    </tr>\n",
       "    <tr>\n",
       "      <th>4</th>\n",
       "      <td>\"9495_8\"</td>\n",
       "      <td>1</td>\n",
       "      <td>\"Superbly trashy and wondrously unpretentious ...</td>\n",
       "    </tr>\n",
       "  </tbody>\n",
       "</table>\n",
       "</div>"
      ],
      "text/plain": [
       "         id  sentiment                                             review\n",
       "0  \"5814_8\"          1  \"With all this stuff going down at the moment ...\n",
       "1  \"2381_9\"          1  \"\\\"The Classic War of the Worlds\\\" by Timothy ...\n",
       "2  \"7759_3\"          0  \"The film starts with a manager (Nicholas Bell...\n",
       "3  \"3630_4\"          0  \"It must be assumed that those who praised thi...\n",
       "4  \"9495_8\"          1  \"Superbly trashy and wondrously unpretentious ..."
      ]
     },
     "execution_count": 94,
     "metadata": {},
     "output_type": "execute_result"
    }
   ],
   "source": [
    "# Verimize bakalım.\n",
    "# Let's look at our data.\n",
    "\n",
    "df.head()"
   ]
  },
  {
   "cell_type": "code",
   "execution_count": 95,
   "id": "49cafb93-7aea-40e1-8a9a-04d6a1dc6c14",
   "metadata": {},
   "outputs": [
    {
     "data": {
      "text/plain": [
       "25000"
      ]
     },
     "execution_count": 95,
     "metadata": {},
     "output_type": "execute_result"
    }
   ],
   "source": [
    "len(df)"
   ]
  },
  {
   "cell_type": "markdown",
   "id": "132d9324-3956-4926-8de5-55cbfccb400b",
   "metadata": {},
   "source": [
    "# len() fonksiyonu, Python'da bir nesnenin (örneğin bir liste, string, demet veya başka bir koleksiyon) uzunluğunu veya eleman sayısını döndüren yerleşik bir fonksiyondur.\n",
    "\n",
    "# The len() function is a built-in function in Python that returns the length or number of elements of an object (for example, a list, string, tuple, or other collection)."
   ]
  },
  {
   "cell_type": "code",
   "execution_count": 97,
   "id": "600bb54d-4a91-4952-b5fc-f303fc8bf298",
   "metadata": {},
   "outputs": [
    {
     "data": {
      "text/plain": [
       "25000"
      ]
     },
     "execution_count": 97,
     "metadata": {},
     "output_type": "execute_result"
    }
   ],
   "source": [
    "len(df[\"review\"])          # review satırıda 25.000.\n",
    "                           # review line is 25.000."
   ]
  },
  {
   "cell_type": "code",
   "execution_count": 98,
   "id": "b8fd322f-7674-4bfe-be67-2f6361cf44fc",
   "metadata": {},
   "outputs": [
    {
     "name": "stderr",
     "output_type": "stream",
     "text": [
      "[nltk_data] Downloading package stopwords to\n",
      "[nltk_data]     /home/ubuntu26/nltk_data...\n",
      "[nltk_data]   Package stopwords is already up-to-date!\n"
     ]
    },
    {
     "data": {
      "text/plain": [
       "True"
      ]
     },
     "execution_count": 98,
     "metadata": {},
     "output_type": "execute_result"
    }
   ],
   "source": [
    "# stopwords'ü temizlemek için nltk kütüphanesinden stopwords kelime setini bilgisayarımıza indirmemiz gerekiyor.\n",
    "# Bu işlemi nltk ile yapıyoruz.\n",
    "\n",
    "# To clean stopwords, we need to download the stopwords word set from the nltk library to our computer. \n",
    "# We do this with nltk.\n",
    "\n",
    "nltk.download(\"stopwords\")"
   ]
  },
  {
   "cell_type": "markdown",
   "id": "66454a0a-0896-41d1-ae5f-e5d1c1056d7c",
   "metadata": {},
   "source": [
    "# nltk.download(\"stopwords\"), NLTK (Natural Language Toolkit) kütüphanesinde yer alan \"stopwords\" verisini indirmek için kullanılan bir komuttur. \"Stopwords\", doğal dil işleme (NLP) alanında genellikle önemli sayılmayan ve cümlelerde sıkça bulunan kelimelerdir (örneğin, \"ve\", \"bir\", \"ben\", \"ile\" gibi).\n",
    "\n",
    "# Bu kelimeler, metin analizi yaparken genellikle çıkarılır çünkü anlamlı içerik sağlamazlar. nltk.download(\"stopwords\") komutunu çalıştırdığınızda, NLTK kütüphanesi, stopwords listelerini içeren dosyaları indirir.\n",
    "\n",
    "\n",
    "# nltk.download(\"stopwords\") is a command used to download \"stopwords\" data from the NLTK (Natural Language Toolkit) library. \"Stopwords\" are words that are not generally considered important in the field of natural language processing (NLP) and are frequently found in sentences (for example, \"and\", \"one\", \"me\", \"with\").\n",
    "\n",
    "# These words are usually omitted when doing text analysis because they do not provide meaningful content. When you run the nltk.download(\"stopwords\") command, the NLTK library downloads files containing stopword lists."
   ]
  },
  {
   "cell_type": "markdown",
   "id": "25dd0e1e-5d2a-405c-9120-eb08f342cfc4",
   "metadata": {},
   "source": [
    "### VERİ TEMİZLEME İŞLEMLERİ  (DATA CLEANING PROCEDURES)\n",
    "\n",
    "# Öncelikle BeautifulSoup modülünü kullanarak HTML etiketlerini review cümlelerinden sileceğiz.\n",
    "# First, we will remove HTML tags from review sentences using the BeautifulSoup module.\n",
    "\n",
    "# Bu işlemlerin nasıl yapıldığını açıklamak için önce örnek tek bir review seçip size nasıl yapıldığına bakalım. \n",
    "# To explain how these operations are done, let's first choose a single example review and see how it is done."
   ]
  },
  {
   "cell_type": "code",
   "execution_count": 101,
   "id": "8556c163-9a98-41bf-b6ba-2bb7db77e599",
   "metadata": {},
   "outputs": [
    {
     "data": {
      "text/plain": [
       "'\"With all this stuff going down at the moment with MJ i\\'ve started listening to his music, watching the odd documentary here and there, watched The Wiz and watched Moonwalker again. Maybe i just want to get a certain insight into this guy who i thought was really cool in the eighties just to maybe make up my mind whether he is guilty or innocent. Moonwalker is part biography, part feature film which i remember going to see at the cinema when it was originally released. Some of it has subtle messages about MJ\\'s feeling towards the press and also the obvious message of drugs are bad m\\'kay.<br /><br />Visually impressive but of course this is all about Michael Jackson so unless you remotely like MJ in anyway then you are going to hate this and find it boring. Some may call MJ an egotist for consenting to the making of this movie BUT MJ and most of his fans would say that he made it for the fans which if true is really nice of him.<br /><br />The actual feature film bit when it finally starts is only on for 20 minutes or so excluding the Smooth Criminal sequence and Joe Pesci is convincing as a psychopathic all powerful drug lord. Why he wants MJ dead so bad is beyond me. Because MJ overheard his plans? Nah, Joe Pesci\\'s character ranted that he wanted people to know it is he who is supplying drugs etc so i dunno, maybe he just hates MJ\\'s music.<br /><br />Lots of cool things in this like MJ turning into a car and a robot and the whole Speed Demon sequence. Also, the director must have had the patience of a saint when it came to filming the kiddy Bad sequence as usually directors hate working with one kid let alone a whole bunch of them performing a complex dance scene.<br /><br />Bottom line, this movie is for people who like MJ on one level or another (which i think is most people). If not, then stay away. It does try and give off a wholesome message and ironically MJ\\'s bestest buddy in this movie is a girl! Michael Jackson is truly one of the most talented people ever to grace this planet but is he guilty? Well, with all the attention i\\'ve gave this subject....hmmm well i don\\'t know because people can be different behind closed doors, i know this for a fact. He is either an extremely nice but stupid guy or one of the most sickest liars. I hope he is not the latter.\"'"
      ]
     },
     "execution_count": 101,
     "metadata": {},
     "output_type": "execute_result"
    }
   ],
   "source": [
    "sample_review = df.review[0]    # Bu temizlenecek. (This will be cleared.)\n",
    "sample_review"
   ]
  },
  {
   "cell_type": "code",
   "execution_count": 102,
   "id": "cafc946c-529a-46b7-987b-4ca33d2e8bda",
   "metadata": {},
   "outputs": [
    {
     "data": {
      "text/plain": [
       "'\"With all this stuff going down at the moment with MJ i\\'ve started listening to his music, watching the odd documentary here and there, watched The Wiz and watched Moonwalker again. Maybe i just want to get a certain insight into this guy who i thought was really cool in the eighties just to maybe make up my mind whether he is guilty or innocent. Moonwalker is part biography, part feature film which i remember going to see at the cinema when it was originally released. Some of it has subtle messages about MJ\\'s feeling towards the press and also the obvious message of drugs are bad m\\'kay.Visually impressive but of course this is all about Michael Jackson so unless you remotely like MJ in anyway then you are going to hate this and find it boring. Some may call MJ an egotist for consenting to the making of this movie BUT MJ and most of his fans would say that he made it for the fans which if true is really nice of him.The actual feature film bit when it finally starts is only on for 20 minutes or so excluding the Smooth Criminal sequence and Joe Pesci is convincing as a psychopathic all powerful drug lord. Why he wants MJ dead so bad is beyond me. Because MJ overheard his plans? Nah, Joe Pesci\\'s character ranted that he wanted people to know it is he who is supplying drugs etc so i dunno, maybe he just hates MJ\\'s music.Lots of cool things in this like MJ turning into a car and a robot and the whole Speed Demon sequence. Also, the director must have had the patience of a saint when it came to filming the kiddy Bad sequence as usually directors hate working with one kid let alone a whole bunch of them performing a complex dance scene.Bottom line, this movie is for people who like MJ on one level or another (which i think is most people). If not, then stay away. It does try and give off a wholesome message and ironically MJ\\'s bestest buddy in this movie is a girl! Michael Jackson is truly one of the most talented people ever to grace this planet but is he guilty? Well, with all the attention i\\'ve gave this subject....hmmm well i don\\'t know because people can be different behind closed doors, i know this for a fact. He is either an extremely nice but stupid guy or one of the most sickest liars. I hope he is not the latter.\"'"
      ]
     },
     "execution_count": 102,
     "metadata": {},
     "output_type": "execute_result"
    }
   ],
   "source": [
    "# HTML etiketleri temzilendikten sonra... (# After cleaning HTML tags...)\n",
    "sample_review= BeautifulSoup(sample_review).get_text()\n",
    "sample_review"
   ]
  },
  {
   "cell_type": "code",
   "execution_count": 103,
   "id": "4e0494fd-4670-46ae-830e-0302432f87e3",
   "metadata": {},
   "outputs": [
    {
     "data": {
      "text/plain": [
       "' With all this stuff going down at the moment with MJ i ve started listening to his music  watching the odd documentary here and there  watched The Wiz and watched Moonwalker again  Maybe i just want to get a certain insight into this guy who i thought was really cool in the eighties just to maybe make up my mind whether he is guilty or innocent  Moonwalker is part biography  part feature film which i remember going to see at the cinema when it was originally released  Some of it has subtle messages about MJ s feeling towards the press and also the obvious message of drugs are bad m kay Visually impressive but of course this is all about Michael Jackson so unless you remotely like MJ in anyway then you are going to hate this and find it boring  Some may call MJ an egotist for consenting to the making of this movie BUT MJ and most of his fans would say that he made it for the fans which if true is really nice of him The actual feature film bit when it finally starts is only on for    minutes or so excluding the Smooth Criminal sequence and Joe Pesci is convincing as a psychopathic all powerful drug lord  Why he wants MJ dead so bad is beyond me  Because MJ overheard his plans  Nah  Joe Pesci s character ranted that he wanted people to know it is he who is supplying drugs etc so i dunno  maybe he just hates MJ s music Lots of cool things in this like MJ turning into a car and a robot and the whole Speed Demon sequence  Also  the director must have had the patience of a saint when it came to filming the kiddy Bad sequence as usually directors hate working with one kid let alone a whole bunch of them performing a complex dance scene Bottom line  this movie is for people who like MJ on one level or another  which i think is most people   If not  then stay away  It does try and give off a wholesome message and ironically MJ s bestest buddy in this movie is a girl  Michael Jackson is truly one of the most talented people ever to grace this planet but is he guilty  Well  with all the attention i ve gave this subject    hmmm well i don t know because people can be different behind closed doors  i know this for a fact  He is either an extremely nice but stupid guy or one of the most sickest liars  I hope he is not the latter  '"
      ]
     },
     "execution_count": 103,
     "metadata": {},
     "output_type": "execute_result"
    }
   ],
   "source": [
    "# Noktalama işaretleri ve sayılardan temizliyoruz.  (# We clean it from punctuation and numbers.) (Sayılar duygu analizinde kullanılmıyor.)\n",
    "sample_review = re.sub(\"[^a-zA-Z]\",' ',sample_review)                                             # (Yanıltıcı olabilir.)\n",
    "sample_review"
   ]
  },
  {
   "cell_type": "markdown",
   "id": "6102e12a-cb82-40e7-be01-6ecf0637ad39",
   "metadata": {},
   "source": [
    "# re.sub(), Python'un re (regular expression) modülünde bulunan bir fonksiyondur. Bu fonksiyon, bir düzenli ifade (regular expression) kullanarak bir metindeki belirli bir alt dizeyi başka bir alt dizeyle değiştirmek için kullanılır.\n",
    "\n",
    "\n",
    "# re.sub() is a function in Python's re (regular expression) module. This function is used to replace a given substring in a text with another substring using a regular expression."
   ]
  },
  {
   "cell_type": "markdown",
   "id": "c91bb1e6-9d87-4ac2-8fbf-0a099fa8329d",
   "metadata": {},
   "source": [
    "# Küçük harfe dönüştürüyoruz, makine öğrenim algoritmalarımızın büyük harfle başlayan kelimeleri farklı kelime olarak algılamaması için yapıyoruz.\n",
    "\n",
    "# We convert it to lowercase so that our machine learning algorithms do not perceive words starting with capital letters as different words."
   ]
  },
  {
   "cell_type": "code",
   "execution_count": 106,
   "id": "9c43a279-db9d-4354-9f4a-04e0f78fc783",
   "metadata": {},
   "outputs": [
    {
     "data": {
      "text/plain": [
       "' with all this stuff going down at the moment with mj i ve started listening to his music  watching the odd documentary here and there  watched the wiz and watched moonwalker again  maybe i just want to get a certain insight into this guy who i thought was really cool in the eighties just to maybe make up my mind whether he is guilty or innocent  moonwalker is part biography  part feature film which i remember going to see at the cinema when it was originally released  some of it has subtle messages about mj s feeling towards the press and also the obvious message of drugs are bad m kay visually impressive but of course this is all about michael jackson so unless you remotely like mj in anyway then you are going to hate this and find it boring  some may call mj an egotist for consenting to the making of this movie but mj and most of his fans would say that he made it for the fans which if true is really nice of him the actual feature film bit when it finally starts is only on for    minutes or so excluding the smooth criminal sequence and joe pesci is convincing as a psychopathic all powerful drug lord  why he wants mj dead so bad is beyond me  because mj overheard his plans  nah  joe pesci s character ranted that he wanted people to know it is he who is supplying drugs etc so i dunno  maybe he just hates mj s music lots of cool things in this like mj turning into a car and a robot and the whole speed demon sequence  also  the director must have had the patience of a saint when it came to filming the kiddy bad sequence as usually directors hate working with one kid let alone a whole bunch of them performing a complex dance scene bottom line  this movie is for people who like mj on one level or another  which i think is most people   if not  then stay away  it does try and give off a wholesome message and ironically mj s bestest buddy in this movie is a girl  michael jackson is truly one of the most talented people ever to grace this planet but is he guilty  well  with all the attention i ve gave this subject    hmmm well i don t know because people can be different behind closed doors  i know this for a fact  he is either an extremely nice but stupid guy or one of the most sickest liars  i hope he is not the latter  '"
      ]
     },
     "execution_count": 106,
     "metadata": {},
     "output_type": "execute_result"
    }
   ],
   "source": [
    "sample_review = sample_review.lower()\n",
    "sample_review"
   ]
  },
  {
   "cell_type": "markdown",
   "id": "1d59247a-a595-4225-8378-09d0a1ad2405",
   "metadata": {},
   "source": [
    "# Stopwords (yani the is ,are gibi kelimeler yapay zeka tarafından kullanılmamasını istiyoruz. Bunlar gramer kelimeleri...)\n",
    "# Önce split ile kelimeleri bölüyoruz ve listeye dönüştürüyoruz. Amacımız stopwords kelimeleri çıkarmak..\n",
    "\n",
    "# Stopwords (i.e. words like the is, are, etc. we don't want AI to use them. These are grammar words...)\n",
    "# First, we divide the words with split and turn them into a list. Our goal is to remove stopwords.."
   ]
  },
  {
   "cell_type": "code",
   "execution_count": 138,
   "id": "b1ee1ad6-e281-4a86-8687-ebdd3f0ec0f8",
   "metadata": {},
   "outputs": [
    {
     "data": {
      "text/plain": [
       "['stuff',\n",
       " 'going',\n",
       " 'moment',\n",
       " 'mj',\n",
       " 'started',\n",
       " 'listening',\n",
       " 'music',\n",
       " 'watching',\n",
       " 'odd',\n",
       " 'documentary',\n",
       " 'watched',\n",
       " 'wiz',\n",
       " 'watched',\n",
       " 'moonwalker',\n",
       " 'maybe',\n",
       " 'want',\n",
       " 'get',\n",
       " 'certain',\n",
       " 'insight',\n",
       " 'guy',\n",
       " 'thought',\n",
       " 'really',\n",
       " 'cool',\n",
       " 'eighties',\n",
       " 'maybe',\n",
       " 'make',\n",
       " 'mind',\n",
       " 'whether',\n",
       " 'guilty',\n",
       " 'innocent',\n",
       " 'moonwalker',\n",
       " 'part',\n",
       " 'biography',\n",
       " 'part',\n",
       " 'feature',\n",
       " 'film',\n",
       " 'remember',\n",
       " 'going',\n",
       " 'see',\n",
       " 'cinema',\n",
       " 'originally',\n",
       " 'released',\n",
       " 'subtle',\n",
       " 'messages',\n",
       " 'mj',\n",
       " 'feeling',\n",
       " 'towards',\n",
       " 'press',\n",
       " 'also',\n",
       " 'obvious',\n",
       " 'message',\n",
       " 'drugs',\n",
       " 'bad',\n",
       " 'kay',\n",
       " 'visually',\n",
       " 'impressive',\n",
       " 'course',\n",
       " 'michael',\n",
       " 'jackson',\n",
       " 'unless',\n",
       " 'remotely',\n",
       " 'like',\n",
       " 'mj',\n",
       " 'anyway',\n",
       " 'going',\n",
       " 'hate',\n",
       " 'find',\n",
       " 'boring',\n",
       " 'may',\n",
       " 'call',\n",
       " 'mj',\n",
       " 'egotist',\n",
       " 'consenting',\n",
       " 'making',\n",
       " 'movie',\n",
       " 'mj',\n",
       " 'fans',\n",
       " 'would',\n",
       " 'say',\n",
       " 'made',\n",
       " 'fans',\n",
       " 'true',\n",
       " 'really',\n",
       " 'nice',\n",
       " 'actual',\n",
       " 'feature',\n",
       " 'film',\n",
       " 'bit',\n",
       " 'finally',\n",
       " 'starts',\n",
       " 'minutes',\n",
       " 'excluding',\n",
       " 'smooth',\n",
       " 'criminal',\n",
       " 'sequence',\n",
       " 'joe',\n",
       " 'pesci',\n",
       " 'convincing',\n",
       " 'psychopathic',\n",
       " 'powerful',\n",
       " 'drug',\n",
       " 'lord',\n",
       " 'wants',\n",
       " 'mj',\n",
       " 'dead',\n",
       " 'bad',\n",
       " 'beyond',\n",
       " 'mj',\n",
       " 'overheard',\n",
       " 'plans',\n",
       " 'nah',\n",
       " 'joe',\n",
       " 'pesci',\n",
       " 'character',\n",
       " 'ranted',\n",
       " 'wanted',\n",
       " 'people',\n",
       " 'know',\n",
       " 'supplying',\n",
       " 'drugs',\n",
       " 'etc',\n",
       " 'dunno',\n",
       " 'maybe',\n",
       " 'hates',\n",
       " 'mj',\n",
       " 'music',\n",
       " 'lots',\n",
       " 'cool',\n",
       " 'things',\n",
       " 'like',\n",
       " 'mj',\n",
       " 'turning',\n",
       " 'car',\n",
       " 'robot',\n",
       " 'whole',\n",
       " 'speed',\n",
       " 'demon',\n",
       " 'sequence',\n",
       " 'also',\n",
       " 'director',\n",
       " 'must',\n",
       " 'patience',\n",
       " 'saint',\n",
       " 'came',\n",
       " 'filming',\n",
       " 'kiddy',\n",
       " 'bad',\n",
       " 'sequence',\n",
       " 'usually',\n",
       " 'directors',\n",
       " 'hate',\n",
       " 'working',\n",
       " 'one',\n",
       " 'kid',\n",
       " 'let',\n",
       " 'alone',\n",
       " 'whole',\n",
       " 'bunch',\n",
       " 'performing',\n",
       " 'complex',\n",
       " 'dance',\n",
       " 'scene',\n",
       " 'bottom',\n",
       " 'line',\n",
       " 'movie',\n",
       " 'people',\n",
       " 'like',\n",
       " 'mj',\n",
       " 'one',\n",
       " 'level',\n",
       " 'another',\n",
       " 'think',\n",
       " 'people',\n",
       " 'stay',\n",
       " 'away',\n",
       " 'try',\n",
       " 'give',\n",
       " 'wholesome',\n",
       " 'message',\n",
       " 'ironically',\n",
       " 'mj',\n",
       " 'bestest',\n",
       " 'buddy',\n",
       " 'movie',\n",
       " 'girl',\n",
       " 'michael',\n",
       " 'jackson',\n",
       " 'truly',\n",
       " 'one',\n",
       " 'talented',\n",
       " 'people',\n",
       " 'ever',\n",
       " 'grace',\n",
       " 'planet',\n",
       " 'guilty',\n",
       " 'well',\n",
       " 'attention',\n",
       " 'gave',\n",
       " 'subject',\n",
       " 'hmmm',\n",
       " 'well',\n",
       " 'know',\n",
       " 'people',\n",
       " 'different',\n",
       " 'behind',\n",
       " 'closed',\n",
       " 'doors',\n",
       " 'know',\n",
       " 'fact',\n",
       " 'either',\n",
       " 'extremely',\n",
       " 'nice',\n",
       " 'stupid',\n",
       " 'guy',\n",
       " 'one',\n",
       " 'sickest',\n",
       " 'liars',\n",
       " 'hope',\n",
       " 'latter']"
      ]
     },
     "execution_count": 138,
     "metadata": {},
     "output_type": "execute_result"
    }
   ],
   "source": [
    "swords = set(stopwords.words(\"english\"))\n",
    "sample_review = [w for w in sample_review if w not in swords]        # are, is, at gibi kelimeler atıldı.\n",
    "sample_review"
   ]
  },
  {
   "cell_type": "markdown",
   "id": "6121514a-6089-46f7-a27f-a877862aa515",
   "metadata": {},
   "source": [
    "# Temizleme işlemini açıkladıktan sonra şimdi tüm dataframe'imiz içinde bulunan reviewlerin döngü içinde topluca temizleyeceğiz. Bu amaçla fonksiyon oluşturalım.\n",
    "\n",
    "# After explaining the cleaning process, we will now clean all the reviews in our dataframe in a loop. Let's create a function for this purpose.\n",
    "\n"
   ]
  },
  {
   "cell_type": "code",
   "execution_count": 143,
   "id": "96f6c548-6b8b-456c-adc3-e38416b3b43f",
   "metadata": {},
   "outputs": [],
   "source": [
    "def process(review):\n",
    "    #review without HTML etiketleri\n",
    "    review = BeautifulSoup(review).get_text()\n",
    "    #review without punctuation and numbers  (#noktalama işareti ve rakam olmadan inceleme)\n",
    "    review = re.sub(\"[^a-zA-Z]\",' ', review)\n",
    "    # converting into lowercase and splitting to eliminate stowords (# küçük harfe dönüştürme ve kelime hatalarını ortadan kaldırmak için bölme)\n",
    "    review = review.lower()\n",
    "    review = review.split()\n",
    "    # review without stopwords\n",
    "    swords = set(stopwords.words(\"english\"))                    # conversion into set for fast searching (# hızlı arama için kümeye dönüştürme)\n",
    "    review = [w for w in review if w not in swords]\n",
    "    # splitted paragraph'ları space ile birleştiriyoruz.\n",
    "    return(\" \".join(review))"
   ]
  },
  {
   "cell_type": "markdown",
   "id": "3844d48f-43cc-4bf4-b043-5446a640c7e4",
   "metadata": {},
   "source": [
    "# Training datamızı yukarıdaki fonksiyon yardımıyla temizliyoruz.\n",
    "# Her 1000 review sonrası bir satır yazdırarak review işleminin durumunu görüyoruz.\n",
    "\n",
    "\n",
    "# We clean our training data with the function above.\n",
    "# We see the status of the review process by printing a line after every 1000 reviews."
   ]
  },
  {
   "cell_type": "code",
   "execution_count": 146,
   "id": "40be969d-6270-46b7-9265-570a171ad304",
   "metadata": {},
   "outputs": [
    {
     "name": "stdout",
     "output_type": "stream",
     "text": [
      "No of reviews processed = 1000\n",
      "No of reviews processed = 2000\n",
      "No of reviews processed = 3000\n",
      "No of reviews processed = 4000\n",
      "No of reviews processed = 5000\n",
      "No of reviews processed = 6000\n",
      "No of reviews processed = 7000\n",
      "No of reviews processed = 8000\n",
      "No of reviews processed = 9000\n",
      "No of reviews processed = 10000\n",
      "No of reviews processed = 11000\n",
      "No of reviews processed = 12000\n",
      "No of reviews processed = 13000\n",
      "No of reviews processed = 14000\n",
      "No of reviews processed = 15000\n",
      "No of reviews processed = 16000\n",
      "No of reviews processed = 17000\n",
      "No of reviews processed = 18000\n",
      "No of reviews processed = 19000\n",
      "No of reviews processed = 20000\n",
      "No of reviews processed = 21000\n",
      "No of reviews processed = 22000\n",
      "No of reviews processed = 23000\n",
      "No of reviews processed = 24000\n",
      "No of reviews processed = 25000\n"
     ]
    }
   ],
   "source": [
    "train_x_tum = []\n",
    "for r in range(len(df[\"review\"])):\n",
    "    if (r+1)%1000 == 0:\n",
    "        print(\"No of reviews processed =\", r+1)\n",
    "        train_x_tum.append(process(df[\"review\"][r]))"
   ]
  },
  {
   "cell_type": "markdown",
   "id": "abe32cc5-ffbd-48c2-b6f8-90ba98cf556c",
   "metadata": {},
   "source": [
    "# Verdiğin kod parçası, bir veri çerçevesinin (DataFrame) \"review\" sütunundaki her incelemeyi işleyen bir döngü içeriyor. Ancak döngü, yalnızca her 1000 incelemede bir güncelleme yapıyor. Yani, işlemin tamamlanması sırasında ilerlemeyi takip etmek için ara çıktılar veriyor.\n",
    "\n",
    "# The code snippet you provided contains a loop that processes each review in the \"review\" column of a DataFrame. However, the loop only updates every 1000 reviews, meaning it returns intermediate outputs to track progress as the process completes."
   ]
  },
  {
   "cell_type": "code",
   "execution_count": 157,
   "id": "4cf11bc2-b2c4-4bb7-9a22-e819ae5ce284",
   "metadata": {},
   "outputs": [],
   "source": [
    "x = train_x_tum\n",
    "y = np.array(df[\"sentiment\"])\n",
    "\n",
    "# train test split\n",
    "# train_x, test_x, y_train, y_test = train_test_split(x,y, test_size = 0.1, random_state =42)"
   ]
  },
  {
   "cell_type": "code",
   "execution_count": null,
   "id": "7a3c48e9-fc64-4e6a-bfaa-41e73c2b2f24",
   "metadata": {},
   "outputs": [],
   "source": []
  },
  {
   "cell_type": "code",
   "execution_count": null,
   "id": "8729a825-b91a-4736-aaf6-37cae7986357",
   "metadata": {},
   "outputs": [],
   "source": []
  }
 ],
 "metadata": {
  "kernelspec": {
   "display_name": "Python 3 (ipykernel)",
   "language": "python",
   "name": "python3"
  },
  "language_info": {
   "codemirror_mode": {
    "name": "ipython",
    "version": 3
   },
   "file_extension": ".py",
   "mimetype": "text/x-python",
   "name": "python",
   "nbconvert_exporter": "python",
   "pygments_lexer": "ipython3",
   "version": "3.12.4"
  }
 },
 "nbformat": 4,
 "nbformat_minor": 5
}
