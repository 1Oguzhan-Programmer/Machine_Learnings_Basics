{
 "cells": [
  {
   "cell_type": "markdown",
   "id": "756f1348-170e-432c-8d7d-d97f924b88cd",
   "metadata": {},
   "source": [
    "                                                          # NumPy Basics\n",
    "# NumPy, Python programlam diline ait çok boyutlu dizilerle ve matrislerle çalışmamıza yardım eden ileri düzey matematiksel işlemler yapabilceğmiz bir kütüphanedir. Günümüzde özellikle veri bilimi üzerine çalışanlar başta olmak üzere NumPy. python programlayanlar tarafından çok sık kullanılan bir kütüphanedir.\n",
    "\n",
    "# Dizinler üzerinde matematiksel, cebirsel ve istatiksel operasyonlar uygulamak için kullanılır. Numpy'in diğer kütüphanelere göre üstünlüklerinden birisi de çok boyutlu dizilerle işlem yapabilmemizi sağlayan fonksiyonlara sahip olmasıdır. Çok boyutlu dizileri hatırlayalım. Bunlar 1 boyutlu, 2 boyutlu ve 3 boyutlu dizilerdir.\n",
    "\n",
    "\n",
    "\n",
    "\n",
    "\n",
    "# NumPy is a library in the Python programming language that helps us work with multidimensional arrays and matrices, allowing us to perform advanced mathematical operations. Nowadays, especially those working on data science, NumPy. Python is a library that is frequently used by programmers.\n",
    "\n",
    "# It is used to perform mathematical, algebraic and statistical operations on indexes. One of Numpy's advantages over other libraries is that it has functions that allow us to operate with multidimensional arrays. Let's remember multidimensional arrays.These are 1-dimensional, 2-dimensional and 3-dimensional arrays."
   ]
  },
  {
   "cell_type": "code",
   "execution_count": 2,
   "id": "54bdd2dc-5065-498d-a772-02f12c816649",
   "metadata": {},
   "outputs": [],
   "source": [
    "# Numpy ve listelerin farkı   (# Difference between numpy and lists)"
   ]
  },
  {
   "cell_type": "code",
   "execution_count": 10,
   "id": "9ed637bc-f64c-4577-862b-242f381d0d64",
   "metadata": {},
   "outputs": [],
   "source": [
    "# list kullanımı (# list usage)\n",
    "\n",
    "a = [1,5,10]\n",
    "b = [1,2,3]\n",
    "\n",
    "# a*b =>hata verir. (# returns an error.)\n"
   ]
  },
  {
   "cell_type": "code",
   "execution_count": 16,
   "id": "11c7e8c8-ae4f-4b07-86db-a445bd5acef9",
   "metadata": {},
   "outputs": [],
   "source": [
    "import numpy as np"
   ]
  },
  {
   "cell_type": "code",
   "execution_count": 18,
   "id": "b363f6c3-33ab-4c5e-b99c-242d666ab363",
   "metadata": {},
   "outputs": [
    {
     "name": "stdout",
     "output_type": "stream",
     "text": [
      "[ 1  5 10]\n"
     ]
    }
   ],
   "source": [
    "a = np.array([1,5,10])\n",
    "print(a)"
   ]
  },
  {
   "cell_type": "code",
   "execution_count": 20,
   "id": "06ba0118-1f25-4eb3-a7be-f4d1e9e731fd",
   "metadata": {},
   "outputs": [
    {
     "name": "stdout",
     "output_type": "stream",
     "text": [
      "[[ 1  7 20]\n",
      " [ 5  8  9]]\n"
     ]
    }
   ],
   "source": [
    "b = np.array([[1,7,20], [5,8,9]])\n",
    "print(b)"
   ]
  },
  {
   "cell_type": "code",
   "execution_count": 22,
   "id": "a3fe8119-01d3-4b50-a159-87a76dfdfea1",
   "metadata": {},
   "outputs": [],
   "source": [
    "# dizini boyutunu öğrenmek için ndim kullanırız.\n",
    "# We use ndim to find out the directory size."
   ]
  },
  {
   "cell_type": "code",
   "execution_count": 24,
   "id": "cdfe2640-4f70-4b9b-ab02-b17e671cba1c",
   "metadata": {},
   "outputs": [
    {
     "data": {
      "text/plain": [
       "2"
      ]
     },
     "execution_count": 24,
     "metadata": {},
     "output_type": "execute_result"
    }
   ],
   "source": [
    "b.ndim"
   ]
  },
  {
   "cell_type": "code",
   "execution_count": 26,
   "id": "05e06932-1eaf-45b8-888c-5363c1e764e2",
   "metadata": {},
   "outputs": [
    {
     "data": {
      "text/plain": [
       "1"
      ]
     },
     "execution_count": 26,
     "metadata": {},
     "output_type": "execute_result"
    }
   ],
   "source": [
    "a.ndim"
   ]
  },
  {
   "cell_type": "code",
   "execution_count": 28,
   "id": "cff728f0-a392-4a9c-bf93-6038cb879d32",
   "metadata": {},
   "outputs": [],
   "source": [
    "# 2 satır 3 sütunlu dizimizin boyunu öğrenmek için shape kullanılır.\n",
    "# Shape is used to find out the size of our 2 row and 3 column array."
   ]
  },
  {
   "cell_type": "code",
   "execution_count": 30,
   "id": "5a7b82b8-892c-4265-888b-5652ea561283",
   "metadata": {},
   "outputs": [
    {
     "data": {
      "text/plain": [
       "(2, 3)"
      ]
     },
     "execution_count": 30,
     "metadata": {},
     "output_type": "execute_result"
    }
   ],
   "source": [
    "b.shape"
   ]
  },
  {
   "cell_type": "code",
   "execution_count": 34,
   "id": "bd800803-02bf-4874-a784-96a57d0e9e07",
   "metadata": {},
   "outputs": [
    {
     "data": {
      "text/plain": [
       "dtype('int64')"
      ]
     },
     "execution_count": 34,
     "metadata": {},
     "output_type": "execute_result"
    }
   ],
   "source": [
    "a.dtype                  "
   ]
  },
  {
   "cell_type": "markdown",
   "id": "41670b59-50ac-4b37-9afb-dda93f7e2a7a",
   "metadata": {},
   "source": [
    "# dtype` (data type) öğesi, `numpy` dizilerinin veri türünü belirtir. Her bir dizi öğesi aynı veri türüne sahiptir ve `dtype`, dizideki verilerin nasıl yorumlanacağını belirtir.\n",
    "# The `dtype` (data type) element specifies the data type of `numpy` arrays. Each array element has the same data type, and `dtype` specifies how the data in the array will be interpreted."
   ]
  },
  {
   "cell_type": "code",
   "execution_count": 37,
   "id": "6e16ea8f-5cd2-4726-9c64-5acbd3703054",
   "metadata": {},
   "outputs": [],
   "source": [
    "# ondalıklı sayı tanımlayalım.\n",
    "# Let's define a decimal number."
   ]
  },
  {
   "cell_type": "code",
   "execution_count": 39,
   "id": "78a4d0cb-f86f-45eb-ae8f-ec1be7d5742e",
   "metadata": {},
   "outputs": [
    {
     "data": {
      "text/plain": [
       "dtype('float64')"
      ]
     },
     "execution_count": 39,
     "metadata": {},
     "output_type": "execute_result"
    }
   ],
   "source": [
    "x = np.array([1.0,5.4,10.42])\n",
    "x.dtype"
   ]
  },
  {
   "cell_type": "code",
   "execution_count": 41,
   "id": "c99a85fc-c986-42c8-b1b2-e3083a60808a",
   "metadata": {},
   "outputs": [],
   "source": [
    "# Dizinin belirli bir hücresine erişmek için satır ve sütun numaraları kullanırız.\n",
    "# We use row and column numbers to access a specific cell of the array."
   ]
  },
  {
   "cell_type": "code",
   "execution_count": 43,
   "id": "162466a6-8ef3-4c4c-8bd6-fe68a492f74b",
   "metadata": {},
   "outputs": [
    {
     "name": "stdout",
     "output_type": "stream",
     "text": [
      "[[ 1  7 20]\n",
      " [ 5  8  9]]\n"
     ]
    }
   ],
   "source": [
    "print(b)"
   ]
  },
  {
   "cell_type": "code",
   "execution_count": 49,
   "id": "9495ed28-16b4-4fb0-9dc3-37c74ea87a2b",
   "metadata": {},
   "outputs": [
    {
     "data": {
      "text/plain": [
       "20"
      ]
     },
     "execution_count": 49,
     "metadata": {},
     "output_type": "execute_result"
    }
   ],
   "source": [
    "b[0,2]     #(satır_index, sütun_index)   #(row_index, column_index)"
   ]
  },
  {
   "cell_type": "code",
   "execution_count": 51,
   "id": "458570dd-d80f-43b2-b766-a47c96fb70c6",
   "metadata": {},
   "outputs": [
    {
     "data": {
      "text/plain": [
       "8"
      ]
     },
     "execution_count": 51,
     "metadata": {},
     "output_type": "execute_result"
    }
   ],
   "source": [
    "b[1,1]"
   ]
  },
  {
   "cell_type": "code",
   "execution_count": 61,
   "id": "0eac259c-206a-40d1-8b2c-a1b33f6631d5",
   "metadata": {},
   "outputs": [],
   "source": [
    "# ilk satırdaki ikinci ve üçüncü elemanlara yani 7'ye ve 20'ye erişelim.\n",
    "# Let's access the second and third elements in the first row, namely 7 and 20."
   ]
  },
  {
   "cell_type": "code",
   "execution_count": 76,
   "id": "9b15681f-fe60-4498-9797-52f2cceae979",
   "metadata": {},
   "outputs": [
    {
     "data": {
      "text/plain": [
       "array([ 7, 20])"
      ]
     },
     "execution_count": 76,
     "metadata": {},
     "output_type": "execute_result"
    }
   ],
   "source": [
    "b[0,1:]           # [sıfırncı sütun, 1 satır dahil ve 1'den sonraki satır]"
   ]
  },
  {
   "cell_type": "code",
   "execution_count": 77,
   "id": "08b9c49f-40db-47d6-8b0d-eff56a1433f6",
   "metadata": {},
   "outputs": [
    {
     "data": {
      "text/plain": [
       "18"
      ]
     },
     "execution_count": 77,
     "metadata": {},
     "output_type": "execute_result"
    }
   ],
   "source": [
    "b[1,1]= 18         # normalde 1.satır 1.sütun 8 ama biz 18 olsun istedik bu yüzden eşitledik.  \n",
    "                   #( normally 1st row 1st column is 8 but we wanted it to be 18 so we equalized it.)\n",
    "b[1,1]"
   ]
  },
  {
   "cell_type": "code",
   "execution_count": 80,
   "id": "aceea85b-159b-40b1-a331-e77809ff41f3",
   "metadata": {},
   "outputs": [
    {
     "data": {
      "text/plain": [
       "array([[ 1,  7, 20],\n",
       "       [ 5, 18,  9]])"
      ]
     },
     "execution_count": 80,
     "metadata": {},
     "output_type": "execute_result"
    }
   ],
   "source": [
    "b   # 8 yerine 18 oluştu.  (#18 occurred instead of 8.)"
   ]
  },
  {
   "cell_type": "markdown",
   "id": "adfd5408-2cea-44af-ad5f-9951fec91040",
   "metadata": {},
   "source": [
    "                                        # Otomatik Dizi Oluşturma (# Automatic Sequence Creation)"
   ]
  },
  {
   "cell_type": "code",
   "execution_count": 91,
   "id": "3890d7bc-003f-4c7c-822a-a98cdc7a4022",
   "metadata": {},
   "outputs": [
    {
     "data": {
      "text/plain": [
       "array([[0., 0., 0.],\n",
       "       [0., 0., 0.]])"
      ]
     },
     "execution_count": 91,
     "metadata": {},
     "output_type": "execute_result"
    }
   ],
   "source": [
    "# Tümü sıfır matris/dizi (# All zero matrix/array)\n",
    "dizi_s = np.zeros((2,3))   # 2 satır 3 sütunluk tamasıfır olan dizi          (# 2 row 3 column integer array)\n",
    "dizi_s"
   ]
  },
  {
   "cell_type": "code",
   "execution_count": 97,
   "id": "5313733f-e63d-4b46-9fa9-9ab195240e68",
   "metadata": {},
   "outputs": [
    {
     "data": {
      "text/plain": [
       "array([[50, 50, 50, 50],\n",
       "       [50, 50, 50, 50],\n",
       "       [50, 50, 50, 50],\n",
       "       [50, 50, 50, 50]])"
      ]
     },
     "execution_count": 97,
     "metadata": {},
     "output_type": "execute_result"
    }
   ],
   "source": [
    "# Tümü aynı değer olan dizi    (# Array with all the same value)\n",
    "dizi1 = np.full((4,4), 50)\n",
    "dizi1"
   ]
  },
  {
   "cell_type": "code",
   "execution_count": 109,
   "id": "1ac8f499-e4ec-4a1e-ae67-a433a9cf5110",
   "metadata": {},
   "outputs": [
    {
     "data": {
      "text/plain": [
       "array([[0.73598732, 0.66534778, 0.04862779],\n",
       "       [0.3985935 , 0.70794985, 0.48039712],\n",
       "       [0.20574528, 0.2684614 , 0.48819555],\n",
       "       [0.49257408, 0.97479109, 0.50718865]])"
      ]
     },
     "execution_count": 109,
     "metadata": {},
     "output_type": "execute_result"
    }
   ],
   "source": [
    "# Random dizi oluşturma            (# Create random array)    # Random 0 ile 1 arasında değer oluşturur. (# Random creates a value between 0 and 1.)\n",
    "dizi2 = np.random.rand(4,3)\n",
    "dizi2"
   ]
  },
  {
   "cell_type": "code",
   "execution_count": 117,
   "id": "675755a3-a372-4641-9ed2-047776d4e34b",
   "metadata": {},
   "outputs": [
    {
     "data": {
      "text/plain": [
       "array([[87, 34, 41, 93, 49],\n",
       "       [80,  9, 43, 96, 78],\n",
       "       [97, 74, 39, 28, 51],\n",
       "       [34,  2, 37, 66, 22],\n",
       "       [ 8, 93, 30, 30, 12]])"
      ]
     },
     "execution_count": 117,
     "metadata": {},
     "output_type": "execute_result"
    }
   ],
   "source": [
    "# Otomatik random int dizi oluşturma                (# Automatic random int array creation)  \n",
    "dizi3 = np.random.randint(0,100,size=(5,5))\n",
    "dizi3"
   ]
  },
  {
   "cell_type": "code",
   "execution_count": 119,
   "id": "0e282cb6-0e62-430a-95e9-920e2ab67037",
   "metadata": {},
   "outputs": [],
   "source": [
    "# Dizi kopyalarken dikkat!!!    (# Be careful when copying strings!!!)"
   ]
  },
  {
   "cell_type": "code",
   "execution_count": 125,
   "id": "b9cfabdd-e6e0-4026-a1ca-388555760e94",
   "metadata": {},
   "outputs": [
    {
     "name": "stdout",
     "output_type": "stream",
     "text": [
      "[90  2  3]\n",
      "[90  2  3]\n"
     ]
    }
   ],
   "source": [
    "a = np.array([1,2,3])       # 1,2 ve 3 sayıları ile dizi oluşturduk (# We created an array with the numbers 1,2 and 3)\n",
    "b = a                       # b dizisini a dizisi diye kaydettik. (We saved the sequence b as sequence a.)\n",
    "b[0] = 90                   # b'nin sıfırıncı indexine 1 yerine 90 dedik. (# We called the zeroth index of b 90 instead of 1.)\n",
    "\n",
    "print(a)\n",
    "print(b)"
   ]
  },
  {
   "cell_type": "code",
   "execution_count": 127,
   "id": "d3692166-ab72-4d1a-8d9d-bd811d5c4a7a",
   "metadata": {},
   "outputs": [],
   "source": [
    "# Dizilerde Matematiksel İşlemler (# Mathematical Operations on Arrays)"
   ]
  },
  {
   "cell_type": "code",
   "execution_count": 129,
   "id": "b43e396a-47c6-4eaa-b5a2-296f50cf0bf2",
   "metadata": {},
   "outputs": [
    {
     "name": "stdout",
     "output_type": "stream",
     "text": [
      "[1 2 3 4]\n"
     ]
    }
   ],
   "source": [
    "a = np.array([1,2,3,4])\n",
    "print(a)"
   ]
  },
  {
   "cell_type": "code",
   "execution_count": 131,
   "id": "c627e399-65d2-4cd7-ac63-a9a5b827b885",
   "metadata": {},
   "outputs": [
    {
     "data": {
      "text/plain": [
       "array([5, 6, 7, 8])"
      ]
     },
     "execution_count": 131,
     "metadata": {},
     "output_type": "execute_result"
    }
   ],
   "source": [
    "a + 4"
   ]
  },
  {
   "cell_type": "code",
   "execution_count": 133,
   "id": "e305fafc-41d5-4da7-ab4c-34b893ba0739",
   "metadata": {},
   "outputs": [
    {
     "data": {
      "text/plain": [
       "array([2, 4, 6, 8])"
      ]
     },
     "execution_count": 133,
     "metadata": {},
     "output_type": "execute_result"
    }
   ],
   "source": [
    "a * 2"
   ]
  },
  {
   "cell_type": "code",
   "execution_count": 135,
   "id": "e2fc7c4e-b764-489f-890c-25b1bf7e9ca6",
   "metadata": {},
   "outputs": [
    {
     "data": {
      "text/plain": [
       "array([0.5, 1. , 1.5, 2. ])"
      ]
     },
     "execution_count": 135,
     "metadata": {},
     "output_type": "execute_result"
    }
   ],
   "source": [
    "a / 2 "
   ]
  },
  {
   "cell_type": "code",
   "execution_count": 137,
   "id": "4abe54ab-9a32-4146-8b0a-8247fd01a559",
   "metadata": {},
   "outputs": [
    {
     "data": {
      "text/plain": [
       "array([2, 2, 4, 4])"
      ]
     },
     "execution_count": 137,
     "metadata": {},
     "output_type": "execute_result"
    }
   ],
   "source": [
    "b = np.array([1,0,1,0])\n",
    "a + b"
   ]
  },
  {
   "cell_type": "code",
   "execution_count": 139,
   "id": "19b1a4f7-1f40-4bed-a1b5-3a89a336a938",
   "metadata": {},
   "outputs": [
    {
     "data": {
      "text/plain": [
       "array([ 1,  4,  9, 16])"
      ]
     },
     "execution_count": 139,
     "metadata": {},
     "output_type": "execute_result"
    }
   ],
   "source": [
    "a ** 2"
   ]
  },
  {
   "cell_type": "code",
   "execution_count": 141,
   "id": "cfe425e7-b36f-489e-b108-edb9433fd4c0",
   "metadata": {},
   "outputs": [],
   "source": [
    "# İstatistik (statistics)"
   ]
  },
  {
   "cell_type": "code",
   "execution_count": 145,
   "id": "5a48308b-2b96-4cd4-b00c-887cd096f8f4",
   "metadata": {},
   "outputs": [
    {
     "data": {
      "text/plain": [
       "array([[1, 2, 3],\n",
       "       [4, 5, 6]])"
      ]
     },
     "execution_count": 145,
     "metadata": {},
     "output_type": "execute_result"
    }
   ],
   "source": [
    "dizi4 = np.array([[1,2,3], [4,5,6]])\n",
    "dizi4"
   ]
  },
  {
   "cell_type": "code",
   "execution_count": 147,
   "id": "f8ce518d-b0a6-4639-b3ff-160646ca3dba",
   "metadata": {},
   "outputs": [
    {
     "data": {
      "text/plain": [
       "1"
      ]
     },
     "execution_count": 147,
     "metadata": {},
     "output_type": "execute_result"
    }
   ],
   "source": [
    "np.min(dizi4)"
   ]
  },
  {
   "cell_type": "code",
   "execution_count": 149,
   "id": "9241bcf7-7c11-424c-9b0f-6c371af5afa2",
   "metadata": {},
   "outputs": [
    {
     "data": {
      "text/plain": [
       "21"
      ]
     },
     "execution_count": 149,
     "metadata": {},
     "output_type": "execute_result"
    }
   ],
   "source": [
    "np.sum(dizi4)"
   ]
  },
  {
   "cell_type": "code",
   "execution_count": 151,
   "id": "5cc0c710-6929-4576-9e3c-accad4da9d10",
   "metadata": {},
   "outputs": [
    {
     "data": {
      "text/plain": [
       "6"
      ]
     },
     "execution_count": 151,
     "metadata": {},
     "output_type": "execute_result"
    }
   ],
   "source": [
    "np.max(dizi4)"
   ]
  },
  {
   "cell_type": "code",
   "execution_count": 153,
   "id": "5e4c4307-4a03-4bdf-95fa-1da01d17fba7",
   "metadata": {},
   "outputs": [],
   "source": [
    "# Dosyadan dizi yükleme                 (# Loading array from file)"
   ]
  },
  {
   "cell_type": "code",
   "execution_count": 161,
   "id": "a6fe985e-979d-4218-b1e2-454a6847fab3",
   "metadata": {},
   "outputs": [
    {
     "name": "stdout",
     "output_type": "stream",
     "text": [
      "[[1 2 3 4 5 6 7]\n",
      " [8 9 7 8 9 9 8]\n",
      " [3 3 3 5 7 9 0]]\n"
     ]
    }
   ],
   "source": [
    "filedata = np.genfromtxt(\"ornek.txt\", delimiter=\",\")       # ornek adosyadaki dizleri yükledik\n",
    "filedata = filedata.astype(\"int32\")                        # dosyanın tipini integer yaptık\n",
    "print(filedata) "
   ]
  },
  {
   "cell_type": "code",
   "execution_count": 163,
   "id": "9e81dd0b-4682-4f9c-86fe-169a3bf6af58",
   "metadata": {},
   "outputs": [
    {
     "data": {
      "text/plain": [
       "8"
      ]
     },
     "execution_count": 163,
     "metadata": {},
     "output_type": "execute_result"
    }
   ],
   "source": [
    "filedata[1,0]           #1.satır 0. sütunu yazdık."
   ]
  },
  {
   "cell_type": "code",
   "execution_count": null,
   "id": "30afef1d-c429-4048-ad2d-a500a4546e34",
   "metadata": {},
   "outputs": [],
   "source": []
  }
 ],
 "metadata": {
  "kernelspec": {
   "display_name": "Python 3 (ipykernel)",
   "language": "python",
   "name": "python3"
  },
  "language_info": {
   "codemirror_mode": {
    "name": "ipython",
    "version": 3
   },
   "file_extension": ".py",
   "mimetype": "text/x-python",
   "name": "python",
   "nbconvert_exporter": "python",
   "pygments_lexer": "ipython3",
   "version": "3.12.4"
  }
 },
 "nbformat": 4,
 "nbformat_minor": 5
}
