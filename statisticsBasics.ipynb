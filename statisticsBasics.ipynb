{
 "cells": [
  {
   "cell_type": "markdown",
   "id": "cf57496a-3b6c-41c5-9daa-313a7c77cef9",
   "metadata": {},
   "source": [
    "                                         # İstaistik Temelleri (Statistic Basics)"
   ]
  },
  {
   "cell_type": "markdown",
   "id": "31e1898d-ae34-4151-8ed5-52d7a5fe1a0c",
   "metadata": {},
   "source": [
    "# Mean(Ortalama) : Veri setimizdeki tüm veri noktalarının toplamının toplam veri noktasına bölümü ile elde edilir.\n",
    "\n",
    "# It is obtained by dividing the sum of all data points in our data set by the total data point.\n",
    "\n",
    "# <[0,8,12,24,18,7,32]>\n",
    "\n",
    "# (0+8+12+24+18+7+32)/7 = 14.42 "
   ]
  },
  {
   "cell_type": "markdown",
   "id": "1d4d551b-3efb-4f35-8081-987c925c4baf",
   "metadata": {},
   "source": [
    "# median(Ortanca Değer) : Medyanı bulabilmek için veri setini küçükten büyüğe sıralarız. Eğer sayı adedi tek sayı ise ortadaki sayı medyandır. Eğer sayı adedi çift sayı ise ortadaki 2 sayının ortalamasıdır."
   ]
  },
  {
   "cell_type": "code",
   "execution_count": 8,
   "id": "c379bd9a-71a0-4f88-870c-d413c7a58dd2",
   "metadata": {},
   "outputs": [],
   "source": [
    "# Veri Seti : 37, 24, 12, 7, 9, 42, 55\n",
    "# Sıralama Sonrası : 7, 9, 12, 24, 37, 42, 55    #Sayı adedi tek haneli 7 tane o zaman en ortadaki sayı medyandır.\n",
    "                                              #(#The number of numbers is 7 single digits, then the middle number is the median.)"
   ]
  },
  {
   "cell_type": "markdown",
   "id": "aafb553a-b4f5-4cc7-b101-758a1390a5a2",
   "metadata": {},
   "source": [
    "# Mode(Mod) : Mod bir veri setinde en sık gözlemlenen değeri göstermektedir.\n",
    "# Veri setimizde 9 farklı kişiye ait yaş değerlerinin olduğunu varsayalım.\n",
    "# 34, 21, 47, 34, 15, 34, 17, 43, 32\n",
    "# Veri setimizdeki 34 değeri 3 kez tekrarlamıştır. Mod değeri bu yüzden 34'tür.\n",
    "\n",
    "# Mode: Mode shows the most frequently observed value in a data set.\n",
    "# Let's assume that there are age values ​​of 9 different people in our data set.\n",
    "# 34, 21, 47, 34, 15, 34, 17, 43, 32\n",
    "# Repeated 34 values ​​in our data set 3 times. That's why the mod value is 34."
   ]
  },
  {
   "cell_type": "markdown",
   "id": "5f193063-89ac-44b3-9a2a-8b891e2ec5e1",
   "metadata": {},
   "source": [
    "# Mean (Ortalama), Median(Medyan) ve Mode(Mode) Python Örnekli Uygulamaları (Python Example Applications)"
   ]
  },
  {
   "cell_type": "code",
   "execution_count": 13,
   "id": "bcdfdd65-8f98-45a7-a721-a7c6676da26c",
   "metadata": {},
   "outputs": [],
   "source": [
    "import numpy as np"
   ]
  },
  {
   "cell_type": "code",
   "execution_count": 16,
   "id": "08975320-f0f4-4d75-89ae-9dbb94c18e3b",
   "metadata": {},
   "outputs": [
    {
     "data": {
      "text/plain": [
       "array([ 4928.64911683,  7486.06022301,  6051.99324031,  5111.13429323,\n",
       "        2791.7675833 ,  6726.64312184,  5709.05266191,  5716.98792928,\n",
       "        7056.15441375,  3370.70371507,  4000.904391  ,  6699.35720135,\n",
       "        4324.50699724,  6712.80533821,  9513.23753113,  4595.77170707,\n",
       "        4755.68234317,  5710.7665638 ,  4747.06384175,  4144.16743892,\n",
       "        2389.09637019,  4084.27091091,  3955.27504568,  2008.45292946,\n",
       "        3020.8486074 ,  7321.59479814,  5330.20541124,  4001.74104035,\n",
       "        9048.55933451,  2412.72996784,  8026.38680075,  3572.81761967,\n",
       "        4208.26545505,  4116.35752308,  4618.87548704,  5334.0448174 ,\n",
       "        4924.19231742,  5914.5424858 ,  5750.13500722,  5479.01441179,\n",
       "        6898.25250749,  3411.33545233,  3933.20876067,   638.6709229 ,\n",
       "        4837.32325631,  3841.75694964,  5298.94497981,  9119.60904948,\n",
       "        3973.83923905,  2915.0148666 ,  4259.82971603,  3906.81031265,\n",
       "        2585.66014493,  5084.44577666,  7198.49530926,  3115.13844787,\n",
       "        7176.22596169,  4491.70983159,  5864.41183092,  7304.01062367,\n",
       "        2850.4498741 ,  5553.89398414,  4596.38723249,  4166.89183609,\n",
       "        1922.769106  ,  4415.79203399,  4375.84340403,  4171.77919424,\n",
       "        7427.31317929,  4627.50479567,  3619.55579884,  7408.46880562,\n",
       "        5288.39019683,  7492.70584217,  6242.89598711, 10519.83230333,\n",
       "        7409.68988716,  2955.59566691,  5741.2592273 ,  2794.52693391,\n",
       "        6844.23128034,  4163.25740735,  3747.08002499,  8197.23669915,\n",
       "        3336.60291427,  8591.50403733,  4352.3520784 ,  6619.58382204,\n",
       "        3515.47657374,  6959.78166516,  4341.58573098,   824.26649674,\n",
       "        2198.58903266,  2253.25621387,  1738.68726714,  1629.691613  ,\n",
       "        6565.80950585,  9165.24367208,  5309.17266903,  4606.99180383,\n",
       "        5707.94965887,  4629.47482521,  6597.19190383,  5039.66854191,\n",
       "        7934.65317122,  4210.52484279,  3841.1447718 ,  6546.36266756,\n",
       "        8153.92373125,  5623.14593565,  6364.45016027,  2647.38653101,\n",
       "        7576.69782814,  4226.04481688,  4027.26982835,  7803.14872835,\n",
       "        4086.08791755,  6033.94596293,  1012.30763701,  4963.7768936 ,\n",
       "        5646.66769952,  3179.12148424,  9218.35419902,  5995.32096091,\n",
       "        2703.39478917,  4702.63331906,  4564.28110362,  2831.15404303,\n",
       "        7909.46473829,  8382.05733204,   921.0903801 ,  4448.49839533,\n",
       "        5906.10855947,  2992.40628172,  6511.88748493,  1730.87609162,\n",
       "        3784.26009647,  6858.88422341,  3845.42424811,  5086.47093686,\n",
       "        2365.79991027,  4706.50358147,  3911.75626611,  7388.00604229,\n",
       "        8851.61913298,  5750.24538599,  4942.57063413,  4514.45007651,\n",
       "        6015.25939926,  6059.90689756,  4353.3160675 ,  1874.12945545,\n",
       "        1117.46983358,  4240.07402367,  4083.51777424,  2206.84372036,\n",
       "        7006.08300812,  7287.27859542,  7827.10376451,  3428.92115993,\n",
       "        5472.98819382,  8756.20511533,  5987.18169841,  4892.10542123,\n",
       "        3710.80123481,  4010.31957337,  6180.29777171,  5667.07096183,\n",
       "        6472.07292486,  5467.47755139,  9859.16599144,  8255.70283257,\n",
       "        4325.95067626,  5252.4851708 ,  4944.23521977,  6710.63543112,\n",
       "        9728.72028376,  8259.55577005,  6544.33680564,  5584.55258582,\n",
       "        1250.40963732,  7971.79576074,  9881.84331098,  5792.44038958,\n",
       "        4876.66032267,  4940.99459689,  6640.03968068,  4910.30297373,\n",
       "        6446.66225406,  7221.33237572,  5553.5082549 ,  4171.29055886,\n",
       "        2048.44709093,  5716.32139063,  6231.62032086,  2722.89493706,\n",
       "        5663.54188439,  4292.33399443,  4905.70627712,  5975.28045423,\n",
       "        5792.99576756,  4555.46246232,  5309.19349968,  5085.69399047,\n",
       "        3758.41988264,  5972.7516807 ,  7083.37598441,  3965.00933448,\n",
       "        5147.81464975,  3838.74444802,  4296.58195135,  5874.2193684 ,\n",
       "        7738.33289105,  4066.97160672,  5119.76821465,  4564.57418797,\n",
       "        4599.44395836,  3207.84354427,  8697.93490181,  3553.89145778,\n",
       "        5728.11745614,  3307.56439448,  4486.46013341,  3981.45499486,\n",
       "        3196.90211617,  2435.59744587,  2500.07982043,  9586.17594735,\n",
       "        5445.07169829,  4950.79538325,  5879.29025983,  4954.36816403,\n",
       "        2939.45731105,  5984.35914532,  5001.84101323,  9688.44856587,\n",
       "        9722.18541983,  7663.8475207 ,  2841.95436646,  7156.53027622,\n",
       "        5142.46126674,  7673.52039678,  3637.26001404,  8356.44839432,\n",
       "        7003.36198675,  4322.90051632,  3109.52354842,  6435.62132375,\n",
       "        4327.85330766,  6224.99817391,  6080.26393711,  5982.96412376,\n",
       "       12373.1769654 ,  4452.7103309 ,  8977.63785953,  4112.26299476,\n",
       "        4644.94655637,  6971.59806767,  5401.10802375,  4604.22792111,\n",
       "        2829.67807765, -2026.97613623,  3866.26181065,  7074.13896971,\n",
       "        5059.4964096 ,  2445.99696366,  3584.29029881,  5930.42043649,\n",
       "        4739.58755268,  5902.78142435,  6925.0677112 ,  7311.22912727,\n",
       "        3725.89849474,  4971.30525792,  4985.00048958,  6477.36148399,\n",
       "        4657.32135891,  6650.57899763,  3545.29684203,  7717.11919349,\n",
       "        5097.24705777,  6575.97482442,  5224.32293821,  6454.47673533,\n",
       "        2774.97237033,  3482.29852875,  8097.02608351,  6434.10509062,\n",
       "        2979.14910547,  2262.526279  ,   313.26646393,  2129.47283148,\n",
       "        7904.1409596 ,  3701.2128006 ,  6354.26951462,  4525.28299408,\n",
       "        9662.0786348 ,  5044.99699439,  5411.98308497,  8711.96028053,\n",
       "        1066.35799536,  5678.75915343,  5032.3141045 ,  6261.2234207 ,\n",
       "        5369.53510064,  3332.00636029,  5686.32363018,  1936.47070189,\n",
       "        7837.70442883,  4581.42214188,  7315.05701629,  2035.49452618,\n",
       "        5175.93318838,  5842.43713038,  4294.04639798,  5849.18075582,\n",
       "        2761.14383438,  9439.55921263,  3123.5755355 ,  4768.48461084,\n",
       "        3037.83468324,  4795.16358723,  3865.32035179,  4079.01977212,\n",
       "        4157.85469806,  5631.68427005,  2236.3300318 ,  6298.00742136,\n",
       "        1964.80695897,  2966.22692074,  5531.93094599,  3585.37779552,\n",
       "        6245.0357057 ,  5996.99311061,  6209.10613845,  3443.93699857,\n",
       "        4309.74958706,  2461.63610796,  1740.95340605,  1450.33064178,\n",
       "        5252.33852176,  5461.41687982,  1800.97795638,  4149.45952072,\n",
       "        4255.58334217,  7578.07649266,  4098.28767084,  5474.57980914,\n",
       "        6787.9241543 ,  4058.38847307,  5449.06499007,  4868.28389833,\n",
       "        6285.68278052,  1779.57116723,  6047.84912028,  8080.2731245 ,\n",
       "        3224.76183606,  3200.52493814,  5584.20102011,  5754.00293048,\n",
       "        3390.85878946,  2524.40916213,  7380.95956151,  3631.93331336,\n",
       "        7802.22395736,  4084.95120201,  7408.64245218,  6707.03178851,\n",
       "        5636.56309005,  4342.28071204,  2706.06779094,  5123.23234884,\n",
       "        9636.10270499,  4554.64054008,   879.34274101,   147.94473672,\n",
       "        1621.4463521 ,  4596.14615211,  4278.97519574,  9039.45394132,\n",
       "        3532.1929291 ,  7416.9965206 ,  2768.29735429,  5211.03537777,\n",
       "        3038.08819435,  2148.3926366 ,  4624.80786234, 10601.55256832,\n",
       "        5512.90092531,   434.02661546,  7530.76746888,  6558.67113776,\n",
       "        3463.55444303,  6302.273498  ,  3771.32091335,  2349.37214479,\n",
       "        4221.42102792,  3407.07219839,  5701.73718294,  3194.46820091,\n",
       "        -452.95143249,  6361.60890383,  4128.11353645,  3802.46531133,\n",
       "        6157.71333201,  8467.63430089,  6169.06908133,  8081.24168026,\n",
       "        6308.49598223,  5627.64806829,  3410.03466324,  6513.71553689,\n",
       "       10024.35513291,  5796.84529818,  4281.89980785,  3281.76830561,\n",
       "        5131.30692502,  7210.3525777 ,  5610.80075566,  4635.25950443,\n",
       "        5440.15789356,  6486.62713965,  3058.41823413,  5655.25384024,\n",
       "        4049.20352629,  6479.41896838,  1173.53598726,  3819.60750644,\n",
       "        5242.89830488,  5307.28542648,  6020.02198119,  3375.25758052,\n",
       "        6381.34835696,  5538.25366947,  2573.8599691 ,  7120.01961605,\n",
       "        -276.16497243,  4314.83901548,  6131.85975933,  9023.32890177,\n",
       "        4594.99565178,  8172.82521307,  4487.66442804,  3839.97334952,\n",
       "        7248.92504825,  6078.33081333,  3104.30598907,  4007.14888522,\n",
       "        5639.81044187,  3240.52758769,  4996.58116589,  4442.30448719,\n",
       "        6961.78855921,  2234.59951496,  7930.13292224,  5123.29355012,\n",
       "        3197.21912378,  8683.93219726,  5172.73004375,  2876.0403219 ,\n",
       "        8937.54330261,  1184.74528972,  6222.3222832 ,  2239.46096784,\n",
       "        7094.75436833,  4761.54681215,  4722.87390243,  8011.01206836,\n",
       "        5083.80808765,  5645.07008303,  7146.48295213,  8712.26605685,\n",
       "        7641.97262749,  6608.92174704,  2276.36681352,  2678.62784653,\n",
       "        5921.43658561,  5940.88202802,  4746.2615271 ,  9348.7637617 ,\n",
       "        5298.14983583,  4678.38212298,  4151.471956  ,  3868.92551919,\n",
       "        3676.804165  ,  4284.0132574 ,  6836.56161686,  2303.75450313,\n",
       "        6414.69345622,  5546.04755466,  6607.49357779,  1191.62905557,\n",
       "        6545.93501127,  6983.33390034,  7919.48639292,  5730.94276797,\n",
       "        2246.81317241,  3559.16961941,  5726.27705306,  5158.3653922 ,\n",
       "        2453.60248555,  -141.29835979,  1364.9792743 ,  4514.98177609,\n",
       "        3330.80657238,  7438.0441783 ,  5022.86936724,  5180.76942413,\n",
       "        8882.76859985,  2261.87534633,  4732.46805622,  8970.10884434,\n",
       "        7209.01593021,  4937.65624482,  1959.7794869 ,  6150.6217332 ,\n",
       "        8061.3597998 ,  7982.88817494,  3921.25831602,  7554.89564751,\n",
       "        3645.2380377 ,  7400.22448607,  2735.19724256,  5068.92373532,\n",
       "        7206.89465561,  4258.60296725,  5664.63838071,  6376.13070407,\n",
       "        6027.54504765,  3242.95973032,  5906.86701376,  2555.12206939,\n",
       "        3039.92067696,  4759.24435385,  6609.56471833,  6362.79302155,\n",
       "        5000.53751285,  4803.04559649,  4030.75507268,  6449.50329656,\n",
       "        7753.44699658,  5834.99680575,  6337.76472448,  5760.09066209,\n",
       "        3592.17609848,  5576.02456801,  4701.19987714,  2951.49096124,\n",
       "        4776.38298673,  5030.04993047,  5218.23391299,  7541.484817  ,\n",
       "        3412.03427575,  4498.26418101,  4222.46355985,  5276.79384457,\n",
       "        7597.3075956 ,  5275.88479559,  6611.49321095,  3485.87894321,\n",
       "        6062.78089135,  1309.24273719,  4401.69903169,  4250.58439446,\n",
       "        1363.59989976,  5838.87115385,  4989.57372547,   -78.31241061,\n",
       "        5690.33589183,  4804.5735496 ,  4944.00457905,  9494.95441208,\n",
       "        2016.41130646,  5791.52717201,  8605.06259608,  5160.64415755,\n",
       "        6823.99238181,  6746.93099315,  4358.59749101,  7842.52663   ,\n",
       "        2393.42506923,  4181.54469526,  4097.41827595,  4202.49577693,\n",
       "        4567.94248045,  5613.17210927,  7434.83543676,   989.23397872,\n",
       "        5871.91246284,  6644.04861427,  8401.81704886,  6474.09064268,\n",
       "        2298.58114656,  2066.77163093,  7154.1610999 ,  8169.20766806,\n",
       "        7770.16862782,  5469.4226211 ,  2221.50112554,  2087.98699715,\n",
       "        5734.81275961,  6058.85231372,  6443.60468452,  6420.12864991,\n",
       "        5892.41978911,  5408.74696695,  6756.99960676,  2694.7263643 ,\n",
       "        2613.896727  ,  5341.41564184,  4673.29141196,  2801.66067743,\n",
       "        6761.8274678 ,  3496.10613342,  5569.83246012,  3684.17599332,\n",
       "        2948.23943214,  7105.43004842,  7447.83061081,  9145.61857561,\n",
       "        6348.32213106,  5999.19360112,  4527.88064425,  9981.03793721,\n",
       "        7383.76853362,  3732.82585817,  4420.62059622,  4729.7935556 ,\n",
       "        5352.94732004,  4861.07990592,  3654.41533607,  6968.93695531,\n",
       "        6479.96349281,  1441.70831987,  3522.93177494,  6417.18086566,\n",
       "        6822.45107578,  5547.78084029,  5348.31929502,  1762.22752445,\n",
       "        5217.70873136,  3712.01970901,  5580.21777647,  4272.80249603,\n",
       "        4639.73322495,  1850.17901642,  5158.94236565,  6942.56195055,\n",
       "        8161.07458931,  6341.19759177,  1313.24288719,  8628.43284151,\n",
       "         469.76660169,  8117.82908129,  4828.19492137,  6681.84775225,\n",
       "        2367.16759742,  8067.90789044,  8055.00050657,  5291.26671547,\n",
       "        3388.41139753,  7337.17654705,  4458.20458116,  6279.91120225,\n",
       "        8498.70955573,  7506.53444085,  -258.33265109,  4605.73494564,\n",
       "        4649.48277588,  7847.95800656,  7657.80304166,  8910.5603317 ,\n",
       "        6455.20254459,  6122.62595843,  4565.74072256,  6602.24769996,\n",
       "         106.99096887,  2488.02200025,  3325.39522699,  2979.36596414,\n",
       "        7926.90247115,  6025.66548297,  4145.42679308,  4065.87681858,\n",
       "        3888.90683394,  6958.32654744,  5395.39575987,  6508.90222679,\n",
       "        4429.2822687 ,  6782.27911766,  7096.21136429,  6002.07662258,\n",
       "        4940.32940377,  7285.74971385,  1400.67002891,  5019.49129521,\n",
       "        8320.70665983,   219.39609789,  1906.45804034,  2869.19088291,\n",
       "        6927.57101013,  5982.04010798,  7333.50164545,  5824.53049825,\n",
       "        3814.73306953,  6106.32075158,  4052.67592948,  4115.68780152,\n",
       "        3745.94823912,  4815.78634177,  3659.80514945,  3284.17291196,\n",
       "        2804.38196258,  2957.2642748 ,  4770.78417716,  3479.03484309,\n",
       "        2983.91235176,  3606.65713651,  2366.65625411,  6306.37941013,\n",
       "        3679.25979811,  1947.27760008,  2700.80127908,  1172.29919462,\n",
       "        8519.30992075,  2474.76393249,  6114.50283097,   907.10491414,\n",
       "        7965.59389762,  5748.60874578,  2816.49807187,  4557.85764514,\n",
       "        4130.13956601,  4630.52838648,  8371.46846097,  4414.25661994,\n",
       "        2837.03218388,  5308.44743494,  7980.55206153,  5626.5329476 ,\n",
       "        6306.07710262,  4670.46440121,  2898.84832226,  5498.30871585,\n",
       "        5712.75110893,  4680.80138484,  5335.83657852,  7617.80241405,\n",
       "        5569.42673917,  6009.88793458,  4382.97733076,  6749.95341333,\n",
       "        4491.8970063 ,  2036.56928862,  2160.46272336,  3482.07190234,\n",
       "        5894.43191727,  6193.42852301,  1364.79787657,  3040.96750676,\n",
       "        4531.80085765,  3945.46197902,  5087.30167093,  6823.17519992,\n",
       "        4954.65084392,  6947.03260459,  7492.20543012,  5668.98962218,\n",
       "        4833.16488126,  5174.00074985,  7391.02413962,  8451.27468672,\n",
       "        4330.89216304,  4599.29251561,  6087.47524435,  3580.03510315,\n",
       "        6155.96741308,  8205.69707249,  3931.11589756,  5293.87677535,\n",
       "        2338.86931822,  1606.46671376,  5840.23208153,  2146.78042354,\n",
       "        4711.73252632,  4033.8195514 ,  2243.19537697,  4696.71767555,\n",
       "        3798.11809747,  8341.24465337,  2650.57657455,  6343.55753073,\n",
       "        4058.25789239,  5284.37349284,  7989.52747228,  6338.28717195,\n",
       "        3283.27136694,  6851.38903688,  2347.97934939,  4921.03306082,\n",
       "        4334.59451674,  1623.94439189,  3215.78691358,  2818.23056109,\n",
       "        6819.39273488,  5473.79127396,  5564.39196114,  3989.74581101,\n",
       "        2935.3644826 ,  6886.85403063,  6410.48810412,  8014.42585359,\n",
       "        1077.7383207 ,  3405.51710097,  3856.0414002 ,  6549.09853946,\n",
       "        3612.96758223,  1983.97791616,  5332.11304283, 10538.72860135,\n",
       "        5401.38237315,  4955.32702545,  1788.5580042 ,  5806.5150457 ,\n",
       "        4047.96264802,  3829.02324465,  4137.41200527,  2580.68212848,\n",
       "        7084.04295137,  3235.80535184,  5149.82647246,  8442.00467669,\n",
       "        4535.28467577,  4994.43637478,  5129.26824767,  6087.74017341,\n",
       "        4210.67065039,  3189.91319083,  2909.07739961,  3728.84928788,\n",
       "        5136.08900246,  4379.90128294,  5785.40170427,  2778.76894478,\n",
       "        4335.17663056,  7023.04516095,  4699.99467819,  4240.41963225,\n",
       "        6221.73387406,  5853.67356441,  7929.48342253,  7650.2368755 ,\n",
       "        2023.0201149 ,  3387.5114162 ,  4304.82898113,  7345.44573926,\n",
       "        9075.71416381,  6775.37822931,  3683.9206496 ,  7281.60631733,\n",
       "        6438.45119969,  4192.66461805,  7479.12338476,  3233.71357257,\n",
       "        9148.99707048,  8115.57116408,  8696.83729764,  8821.19991984,\n",
       "        7492.91000359,  2891.90026673,  3869.1846192 ,  4835.75520365,\n",
       "        5182.52926523,  6071.55955728,  4699.64453311,  6736.82411995,\n",
       "        4570.00633448,  2218.55267169, 10884.03296634,  6890.22567421,\n",
       "        6093.73051216,  5777.8765961 ,  4930.8372331 ,  4557.3606877 ,\n",
       "        6484.03252465,  2713.03114374,  6866.70662699,  3492.1094069 ,\n",
       "        5706.34810615,  3772.47536879,  1621.71014386,  6074.79239433,\n",
       "        5312.03892817,  4028.333374  ,  5196.35819902,  3087.20394478,\n",
       "        4642.56825992,  4350.53848106,  7476.3764602 ,  7259.15326892,\n",
       "         473.82055115,  4475.06494981,  3561.40510763,  2025.66284382,\n",
       "        7512.45392258,  1897.07939641,  6923.72173661,  4483.32754098,\n",
       "        5936.89088455,  5125.54234255,  4025.97658508,  3000.90092623,\n",
       "        3769.80779759,  3662.67291617,  3684.42518871,  4029.4743245 ,\n",
       "        6877.76641425,  4721.33007115,  2562.21414968,  7048.45150185,\n",
       "        4620.16097803,  4383.70231673,  5559.44095116,  4600.04310542,\n",
       "        4441.67122181,  7903.74547685,  -564.13415317,  6491.51819904,\n",
       "        7457.26040767,  2878.06466672,  5238.70125023,  7484.00762539,\n",
       "        7978.58787095,  5437.18199832,  2745.75975526,  7565.44407844,\n",
       "       10080.04720492,  3517.64473354,  3500.29497962,  7360.18709447,\n",
       "        6023.46752648,  5128.21874743,  2911.44769827,  5875.83621971,\n",
       "        7691.56052843,  2895.86303664,  4846.69406282,  4461.68451792,\n",
       "        3236.74303276,  4143.29323061,  6988.81995074,  5433.00011769,\n",
       "        8027.70274581,  4973.558871  ,  3307.89805273,  3004.12671573,\n",
       "        7638.56845438,  3200.44586906, 11550.36419099,  2149.4419406 ,\n",
       "        7277.44695034,  4369.81425686,  5320.18729405,  7344.14910156,\n",
       "        6112.52371734,  5178.54449526,  5495.64067125,  2332.29077843,\n",
       "        3608.01667904,  1521.72671738,  5574.9914819 ,  4445.39775745,\n",
       "        4209.16454482,  2471.36683616,  3023.57919756,  2964.8617951 ,\n",
       "        5635.6069653 ,  3573.78914951,  7444.15829992,  4184.40409085,\n",
       "        2735.22443698,  5691.63853935,  5404.2441337 ,  3853.97617905,\n",
       "        4557.05240865,  6750.50784359,  2942.85271439,  2729.57260367,\n",
       "        3490.37120688,  2624.82976564,  2690.49965527,  2909.20255637,\n",
       "        6339.69680191,  6598.16251969,  5581.25998028,  5932.5986255 ,\n",
       "        4095.31729404,  6057.92928382,  3831.76103141,  6318.87672152])"
      ]
     },
     "execution_count": 16,
     "metadata": {},
     "output_type": "execute_result"
    }
   ],
   "source": [
    "# Random kullanarak sample bir veri setini kendimiz oluşturalım.\n",
    "# Aylık gelir 5000 tl standart deviation 2000 tl olsun 1000 kişinin random aylık maaşı\n",
    "\n",
    "# Let's create a sample data set ourselves using # Random.\n",
    "# Monthly income is 5000 TL, standard deviation is 2000 TL, random monthly salary of 1000 people\n",
    "\n",
    "\n",
    "gelirler = np.random.normal(5000, 2000, 1000)\n",
    "gelirler"
   ]
  },
  {
   "cell_type": "code",
   "execution_count": 18,
   "id": "5e07b19f-e91e-4972-bdef-c0b27d553e53",
   "metadata": {},
   "outputs": [
    {
     "data": {
      "text/plain": [
       "5058.158970868811"
      ]
     },
     "execution_count": 18,
     "metadata": {},
     "output_type": "execute_result"
    }
   ],
   "source": [
    "# mean() Fonksiyonu ile hesaplayalım. (# Let's calculate it with the mean() Function.)   # aritmatik ortalama (arithmetic mean)\n",
    "\n",
    "np.mean(gelirler)"
   ]
  },
  {
   "cell_type": "code",
   "execution_count": 20,
   "id": "e2f0d8a6-aff7-4378-84fe-c4c24049b0c4",
   "metadata": {},
   "outputs": [],
   "source": [
    "# matplotlib kullanarak çizdiriceğiz. (# We will plot it using matplotlib.) "
   ]
  },
  {
   "cell_type": "code",
   "execution_count": 22,
   "id": "0a6af682-22f8-4fe0-a4cf-4ce47f87e8c9",
   "metadata": {},
   "outputs": [
    {
     "data": {
      "image/png": "[encoded data removed]",
      "text/plain": [
       "<Figure size 640x480 with 1 Axes>"
      ]
     },
     "metadata": {},
     "output_type": "display_data"
    }
   ],
   "source": [
    "import matplotlib.pyplot as plt\n",
    "plt.hist(gelirler, 100)\n",
    "plt.show()"
   ]
  },
  {
   "cell_type": "code",
   "execution_count": 28,
   "id": "ccaf23f1-29bf-4620-9a38-35427bdb9446",
   "metadata": {},
   "outputs": [],
   "source": [
    "# medyanı bulalım. (# let's find the median.)    # Kaggle'dan veriş seti indfirmek istemezseniz random ile veri seti oluşturabilirsiniz.\n",
    "                                                # ( If you do not want to download a data set from Kaggle, you can create a data set with random.)    "
   ]
  },
  {
   "cell_type": "code",
   "execution_count": 30,
   "id": "1fed16a1-8afa-43cc-b035-1be127a8cae8",
   "metadata": {},
   "outputs": [
    {
     "data": {
      "text/plain": [
       "4995.508770336167"
      ]
     },
     "execution_count": 30,
     "metadata": {},
     "output_type": "execute_result"
    }
   ],
   "source": [
    "np.median(gelirler)"
   ]
  },
  {
   "cell_type": "code",
   "execution_count": 33,
   "id": "3c0bed5b-2a35-4998-91ae-c847898ad7c3",
   "metadata": {},
   "outputs": [],
   "source": [
    "# herşey şimdiye kadar çok güzeldi ancak diyelim ki Bill Gates de tesadüfen bizim veri setimizin içine girse :\n",
    "# (# everything was great until now, but let's say if Bill Gates accidentally entered our data set:)"
   ]
  },
  {
   "cell_type": "code",
   "execution_count": 39,
   "id": "af3898ad-e5e8-482b-a3fd-cbe1720f32d3",
   "metadata": {},
   "outputs": [
    {
     "data": {
      "text/plain": [
       "304145.7218054525"
      ]
     },
     "execution_count": 39,
     "metadata": {},
     "output_type": "execute_result"
    }
   ],
   "source": [
    "gelirler = np.append(gelirler, [100000000])       # append fonskiyonu ile veri setini ekle (# add the data set with the append function)\n",
    "\n",
    "np.mean(gelirler)    # mean(Ortalama)"
   ]
  },
  {
   "cell_type": "code",
   "execution_count": 44,
   "id": "147e99b8-e812-444c-a422-cb81a2da98eb",
   "metadata": {},
   "outputs": [
    {
     "data": {
      "text/plain": [
       "ModeResult(mode=16, count=35)"
      ]
     },
     "execution_count": 44,
     "metadata": {},
     "output_type": "execute_result"
    }
   ],
   "source": [
    "# mode :\n",
    "# okuldaki çocukların ortalama yaş değerleri random oluşturalım. Toplam 300 öğrenci, yaşlar 7 ile 18 arasında\n",
    "# Let's randomly generate the average age values ​​of the children in the school. Total 300 students, ages 7 to 18\n",
    "\n",
    "\n",
    "yaslar = np.random.randint(7,18, size=300)\n",
    "\n",
    "from scipy import stats\n",
    "stats.mode(yaslar)\n"
   ]
  },
  {
   "cell_type": "markdown",
   "id": "87153adb-71b3-4c4c-bbfd-f1ba164a54ed",
   "metadata": {},
   "source": [
    "# randint()` fonksiyonu, Python'un `random` modülü içinde bulunan bir fonksiyondur. Bu fonksiyon, belirli bir aralıkta rastgele tamsayılar üretmek için kullanılır.\n",
    "\n",
    "# randint()` function is a function located in Python's `random` module. This function is used to generate random integers in a specified range."
   ]
  },
  {
   "cell_type": "code",
   "execution_count": 47,
   "id": "028592be-fcfe-456b-81ed-69d68041eed6",
   "metadata": {},
   "outputs": [],
   "source": [
    "# Modu 16'mış ve 35 kez tekrar etmiş. (# The mode was 16, she repeated it 35 times)"
   ]
  },
  {
   "cell_type": "code",
   "execution_count": 49,
   "id": "9b8fbac4-f120-499d-881e-e84835e98ac3",
   "metadata": {},
   "outputs": [
    {
     "data": {
      "text/plain": [
       "12.066666666666666"
      ]
     },
     "execution_count": 49,
     "metadata": {},
     "output_type": "execute_result"
    }
   ],
   "source": [
    "np.mean(yaslar)    # Ortalama(Mean)"
   ]
  },
  {
   "cell_type": "code",
   "execution_count": 53,
   "id": "bf33c0c9-0b72-4ab9-b3fa-c226025cd307",
   "metadata": {},
   "outputs": [
    {
     "data": {
      "text/plain": [
       "12.0"
      ]
     },
     "execution_count": 53,
     "metadata": {},
     "output_type": "execute_result"
    }
   ],
   "source": [
    "np.median(yaslar)  #Medyan(Median)"
   ]
  },
  {
   "cell_type": "markdown",
   "id": "9b2dfc97-9204-4d89-b47a-2ddea902b0b5",
   "metadata": {},
   "source": [
    "                                                          # Varyans(Variance)\n",
    "# Varyans, verilerin aritmetik ortalamadan sapmalarının karelerinin toplamının örnek sayısının 1 eksiğine bölünür. \n",
    "\n",
    "# Varyans = Σ((xᵢ - x̄)²) / n\n",
    "\n",
    "# Burada:\n",
    "# - Σ sembolü, toplamı gösterir.\n",
    "# - xᵢ, her bir veri noktasıdır.\n",
    "# - x̄, veri setinin ortalamasıdır.\n",
    "# - n, veri noktalarının sayısını temsil eder.\n",
    "\n",
    "\n",
    "\n",
    "# Variance is the sum of the squares of the deviations of the data from the arithmetic mean divided by the number of samples minus 1. \n",
    "\n",
    "# Variance = Σ((xᵢ - x̄)²) / n\n",
    "\n",
    "# Here:\n",
    "# - The symbol Σ indicates the total.\n",
    "# - xᵢ is each data point.\n",
    "# - x̄ is the mean of the data set.\n",
    "# - n represents the number of data points."
   ]
  },
  {
   "cell_type": "code",
   "execution_count": 56,
   "id": "59db657c-5e73-462d-9cde-c4203ca6defb",
   "metadata": {},
   "outputs": [],
   "source": [
    "# Standart sapmanın karekök alınmamış halidir. (# It is the standard deviation without the square root)"
   ]
  },
  {
   "cell_type": "markdown",
   "id": "85617ac9-2808-4146-811d-ee5edd2d5c10",
   "metadata": {},
   "source": [
    "                                                       # Standart Sapma (Standart Deviation)\n",
    "# Standart sapma da varyarsın kareköküdür. Varyans da standart sapmanın karekök alınmamış hali yani karesidir. \n",
    "# # Standard deviation is also the square root of variance. Variance is the square of the standard deviation without taking the square root.\n",
    "\n",
    "\n",
    "\n",
    "# Standart Sapma (σ) = √(Σ(x - μ)² / N)\n",
    "\n",
    "# Burada:\n",
    "# - Σ, toplam sembolünü temsil eder.\n",
    "# - x, veri setindeki her bir değeri ifade eder.\n",
    "# - μ, veri setinin ortalamasını ifade eder.\n",
    "# - N, veri noktalarının sayısını ifade eder.\n",
    "\n",
    "\n",
    "\n",
    "# Standard Deviation (σ) = √(Σ(x - μ)² / N)\n",
    "\n",
    "# Here:\n",
    "# - Σ represents the sum symbol.\n",
    "# - x refers to each value in the data set.\n",
    "# - μ refers to the mean of the data set.\n",
    "# - N refers to the number of data points."
   ]
  },
  {
   "cell_type": "code",
   "execution_count": 61,
   "id": "9062a07e-473e-4746-9e9f-55e1faf3ce2f",
   "metadata": {},
   "outputs": [],
   "source": [
    "# Örnekle açıklayalım. (# Let's explain with an example.)"
   ]
  },
  {
   "cell_type": "code",
   "execution_count": 63,
   "id": "a8f72509-88b0-48cf-9c54-af45c2be86b3",
   "metadata": {},
   "outputs": [],
   "source": [
    "import numpy as np"
   ]
  },
  {
   "cell_type": "code",
   "execution_count": 65,
   "id": "eb43a596-0f28-4471-a351-156849b37409",
   "metadata": {},
   "outputs": [
    {
     "data": {
      "text/plain": [
       "array([ 4238.45829684,  4592.27281768,  5876.04148848,  4240.99816794,\n",
       "        2496.06785289,  6810.37228849,  4043.367694  ,  1126.30430478,\n",
       "        7231.50896228,  1994.58300477,  3682.93545556,  2716.28701956,\n",
       "        6086.67719623,  4888.52880978,  6655.99562138,  9799.50683731,\n",
       "        6042.97589532,  3222.00235793,  1502.74025814,  4725.9384426 ,\n",
       "        6670.25359503,  2649.70417044,  5462.80599773,  8262.52907784,\n",
       "        6121.54978027, 10806.06123065,   891.51947871,  5075.03430461,\n",
       "        7576.6001452 ,  2789.29652547,  8986.66954502,  6908.8978784 ,\n",
       "        4831.11708073,  5656.48392787,  3723.4489701 ,  1362.41052018,\n",
       "        8534.42109068,  4491.23983918,  4492.12683946,  5933.99778203,\n",
       "        3162.13983187,  6000.87518562,  1066.99654198,  8684.22051024,\n",
       "        4537.79583912,  6284.9584627 ,  4823.14745203,  6015.58839282,\n",
       "        5581.57114995,  3934.11066683,  3230.11497567,  5522.27164852,\n",
       "        5136.44562652,  5237.88776927,  5041.74352746,  5092.30213948,\n",
       "        4999.19966145,  6912.93465406,  3707.71688961,  5211.72395535,\n",
       "        2078.60654882,  5833.49183877,  3326.16839732,  4866.95700329,\n",
       "        3027.53358126,  5538.97124861,  6006.3670884 ,  7906.68960519,\n",
       "        7666.50945348,  2875.19833379,  5623.74685641,  5383.46214153,\n",
       "        2968.18645211,  8248.71716538,  5723.80210696,  5030.61580488,\n",
       "        4791.52674177,  3479.12068392,  5540.08200839,  6079.77797954,\n",
       "        6208.23336685,  6249.21257938,  4046.4196504 ,  8127.81015903,\n",
       "        5489.35308203,  5593.53072231,  4212.97864037,  6203.92812998,\n",
       "        4273.35183204,  5522.58119181,  8161.74996341,  2771.90577987,\n",
       "        6912.0212743 ,  6016.84542464,  6964.50895572,  4119.27469094,\n",
       "         654.99896652,  4911.99287685,  4302.58982064,  3373.64718142,\n",
       "        6367.34351981,  8047.61891989,  3406.10730291,  7859.0943924 ,\n",
       "        4888.80154537,  3138.4928094 ,  6381.68771645,  4595.28055857,\n",
       "        4552.70607041,   -59.78456526,  5407.32891169,  5866.59421031,\n",
       "        6063.55114738,  7041.93793516,  7272.29585063,  6655.08019738,\n",
       "        7385.65649233,  6807.28928451,  3159.29814892,  3389.61805908,\n",
       "        7677.25425895,  8547.30121663,  5568.98610164,  1457.0534388 ,\n",
       "        6894.06550088,  4916.88339461,  4738.61935304,  4350.89337786,\n",
       "        7596.07779836,  7392.83891424,  4531.06190324,  2710.78104149,\n",
       "        5223.9856812 ,  7782.37562727,  7758.48713267,  5930.88515083,\n",
       "        1238.86249396,  3746.47015723,  4638.02318512,  4078.55760983,\n",
       "        3936.4546757 ,  6480.93303258,  7310.25654785,  6279.11321861,\n",
       "        7544.57359625,  5085.74792666,  2108.98155181,  1902.93073795,\n",
       "        3973.45094015,  4678.79079744,  4873.54204034,  6013.23418749,\n",
       "        2167.88584307,  3561.2146743 ,  7400.74387553,  4596.53040712,\n",
       "        4419.43365448,  6127.09970423,  3161.63788771,  5114.92785641,\n",
       "        4910.02431415,  4823.49415613,  4893.73865897,  2614.53043536,\n",
       "        6441.96296447,  4672.82209187,  5160.20251158,  6220.64871911,\n",
       "        4545.8126689 ,  3761.27513263,  6529.71084105,  6158.3966035 ,\n",
       "        4588.4956724 ,  7417.25384917,  5812.17947041,  4590.67178434,\n",
       "        3925.6770435 ,  4588.85650453,  6710.24933938,  6203.91800514,\n",
       "        2839.16805094,  3322.06548735,  3245.35884235,  5772.79646648,\n",
       "        6757.61173455,  2928.7832032 ,  5824.46377383,  6541.55461013,\n",
       "        8238.20123534,  4247.88167392,  3202.37723802,  8827.17229466,\n",
       "        1926.99480139,  4876.52384676,  5600.18316108,  6161.19840861,\n",
       "        6522.396504  ,  3343.76568969,  4654.64893707,  5259.89048098,\n",
       "        1772.53016258,  8614.0740832 ,  3559.43125352,  4872.12544751,\n",
       "        3990.01398024,  8758.41899618,  1544.34649234,  6412.22943348,\n",
       "        4009.17689799,  6566.11598506,  8649.67154991,  7841.68475442,\n",
       "        2526.28178831,  4924.32806631,  3952.33293147,  6011.83346183,\n",
       "        2988.40293464,  4669.01320927,  4372.00452042,  4953.13445631,\n",
       "        3417.97192354,  6849.19610358,  3566.01743556,  6834.31504547,\n",
       "        7710.50215386,  7649.38956415,  8311.55741108,  4154.31177824,\n",
       "        -222.7040556 ,  5656.40875496,  6597.43148265,  5921.22208445,\n",
       "        4226.74501907,  4764.67588962,  7162.85990665,  4474.87757119,\n",
       "        3221.63577616,  3118.34727309,  3134.32654785,  4287.56303034,\n",
       "        6114.20241938,  5162.23806727,  8298.77087245,  3574.84521058,\n",
       "        4736.73120713,  6794.2301922 ,  7619.12722272,  6445.7081712 ,\n",
       "        3684.38211272,  3883.50710785,  8929.36538253,  3869.30250393,\n",
       "        3333.68837945,  3543.39589421,  7223.20473327,  6822.33573089,\n",
       "        5037.22029163,  3026.17972004,  4049.61538496,  4033.65972185,\n",
       "        2231.46548645,  8948.85309023,  5447.88235056,  2636.99744874,\n",
       "        3751.38322525,  5613.81383349,  4169.14115881,  6587.88488489,\n",
       "        4061.64199396,  4436.29880084,  4598.84210849,  4245.72357073,\n",
       "        6007.32766733,  3933.56819713,  2463.46653622,  5760.10604098,\n",
       "        2388.81012716,  6291.9769053 ,  9296.98466745,  3075.71266048,\n",
       "        7407.77940577,  3295.86441611,  3046.8135461 ,  5889.18239111,\n",
       "        1973.58013366,  3462.26868586,  2272.14302587,  6187.05996982,\n",
       "        5183.76833297,  5469.65052502,  5198.78398217,  3547.48881575,\n",
       "        4010.66088052,  4145.98974597,  8375.47733507,  5105.54874384,\n",
       "        2547.40393144,  6310.88051287,  2914.500927  ,  1526.77698969,\n",
       "        4479.36210206,  4117.50753993,  4658.62858458,  6918.52128127,\n",
       "        8239.37319175,  8104.95561624, 10167.15407511,  3670.71137201,\n",
       "        4452.15522649,  6815.39058793,  7473.11933969,  3833.71777046,\n",
       "        4321.41363721,  3349.44918908,  8326.07026258,  7720.3067677 ,\n",
       "        2046.79777599,  3011.88922023,  4911.0979522 ,  4219.83042763,\n",
       "        2108.48928627,  4866.44798128,  4225.63721906,  2686.22696394,\n",
       "        5374.13519144,  3571.12183689,  6276.20235579,  5584.9369533 ,\n",
       "        4229.62565542,  4952.33777135,  2769.62278229,  2707.59442182,\n",
       "        4067.489144  ,  7901.54048241,  7159.58454508,  6267.9387181 ,\n",
       "        4145.13143627,  4630.41580231,  5792.46562324,  5511.18372348,\n",
       "        2548.72226824,  6736.06647591,  4245.62313945,  9058.88795006,\n",
       "        7017.97391102,  9029.20726642,  3714.08898212,  3364.28016532,\n",
       "        5470.0835796 ,  3306.60044034,  5895.31916864,  2164.57074137,\n",
       "        1541.57614123,  5413.45521714,  2364.81237711,  6303.02866857,\n",
       "        3585.57557199,  6012.25756583,  2790.14844017,  5001.73013732,\n",
       "        5830.30515468,  5032.13548834,  4142.20693874,  4479.17936097,\n",
       "        4581.66562043,  5951.5945944 ,  4152.70978935,  5866.25536716,\n",
       "        2173.58752838,  5722.73399863,  4965.11080042,  5947.98726001,\n",
       "        5370.07170109,  4153.96787579,  4761.40431187,  9231.980048  ,\n",
       "        8081.14014196,  6517.58286136,  2883.85924809,  9350.19726715,\n",
       "         865.23401399,  8386.00214185,  8232.61178401,  5298.70069468,\n",
       "        5574.27585993,  5258.51180228,  5769.23335527,  3464.61196148,\n",
       "        7875.14652195,  5258.33903495,   422.68900307,  4403.71166003,\n",
       "        8035.13318028,  5802.06369329,  7454.59634569,  6915.44101593,\n",
       "        7130.10877744,  3091.35445059,  5343.57825397,  6722.77891456,\n",
       "        7979.54154834,  4490.12981332,  7042.30098964,  5107.73433771,\n",
       "        3573.92542944,  6518.59787962,  5365.07610567,  2770.82676027,\n",
       "        5250.292327  ,  2413.88639471,  5313.75243518,  6642.23029594,\n",
       "        5544.86234712,  7252.90291838,  6346.33231415,  4353.14883176,\n",
       "        7377.11760132,  4928.35124812,  3640.94517688,  6347.39603728,\n",
       "        3047.92497559,  5575.64200805,  3011.91629948,  8968.75520991,\n",
       "        6590.56717342,  7325.69272761,  4925.80686861,  2821.40969331,\n",
       "        -261.05058141,  7747.52187311,  3273.14788096,  4061.40921744,\n",
       "        7955.98822716,  5372.54129027,  5724.0961089 ,  4155.29230362,\n",
       "        6003.11000695,  2859.32044963,  5490.179154  ,  6595.35697027,\n",
       "        5776.15724858,  4759.44681781,  3892.33261526,  6317.7217411 ,\n",
       "         764.44767812,  5801.98507864,  6461.58646368,   268.41071004,\n",
       "        6482.1165971 ,  6993.57262387,  5624.42926181,  4307.54156747,\n",
       "        8918.86188973,  9631.06347833,  3895.67614867,  4430.14913968,\n",
       "        8611.8913796 ,  6697.29933022,  5005.58685662,  2410.31775122,\n",
       "        5601.40161554,  1418.38699621,  7922.03383654,  3790.42959297,\n",
       "        7167.9028022 ,  3434.24781643,  4213.49853747,  6433.18831716,\n",
       "        4715.56389892,  3576.05864704,  4546.98093738,  4598.7386401 ,\n",
       "        4811.57589332,  5036.84025896,  4410.141179  ,  6738.26510186,\n",
       "        4448.24099046,  6335.31718432,  4558.57320983,  6124.00540221,\n",
       "        4223.7475127 ,  3847.24384353,  5080.583462  ,  6339.03408875,\n",
       "        4055.06701823,  4934.49274331,  5190.53908392,  2872.81433625,\n",
       "        5273.82343651,  4775.50542726,  7495.47522753,  1502.78207557,\n",
       "        2350.427933  ,  5394.8986709 ,  6500.390229  ,  3760.74914724,\n",
       "        3830.32769845,  7032.36333614,  6815.87255544,   872.18291796,\n",
       "        7603.59561694,  2603.50122005,  5448.91080667,  5570.15428658,\n",
       "        5266.04305546,  6482.33240971,  3886.62710687,  4011.38719253,\n",
       "        4677.52768208,  6977.53828753,  3730.28869306,  3357.31350508,\n",
       "        3515.62844711,  3323.18002508,   990.27171086,  4170.40993431,\n",
       "        3700.33896851,  1767.73776118,  4809.31839534, 11698.69936023,\n",
       "        8828.06670632,  5601.8296344 ,  6664.23572152,  5728.56635696,\n",
       "        3970.40574233,  4550.47129407,  2169.89846964,  4456.32345791,\n",
       "        6997.17748998,  6993.12331266,  4651.14774874,  6347.83695563,\n",
       "        5011.56822007,  6418.40337729,  6650.59854309,  5154.8062193 ,\n",
       "        6104.09889443,  4660.37049347,  6687.64846224,  6114.2316197 ,\n",
       "        1607.55091242,   471.32813296,  5893.04304269,  4134.42586063,\n",
       "        5782.95565931,  3495.84459399,  2622.49951437,  7507.54008706,\n",
       "        3574.31876407,  6807.31048961,  4750.38441348,  3941.46795054,\n",
       "        5035.84419079,  2932.28362938,  7446.04957965,  5737.60827945,\n",
       "        7862.01480437,  5567.69887248,   599.24916234,  5014.74953928,\n",
       "        7397.42124298,  5601.81334036,  6738.69580749,  8176.17443509,\n",
       "        5505.68072338,  3541.98209263,  4051.42949241,  6536.9652453 ,\n",
       "        5181.71114824,  3136.37755926,  6063.19723535,  4330.52848428,\n",
       "        6477.71553486,  4085.28660769,  5127.41773161,  6970.51985907,\n",
       "        2136.03054624,  1802.59542531,  3196.80423634,  5911.6708349 ,\n",
       "        2592.99420033,  4547.25665557,  6693.87470759,  4140.51865785,\n",
       "        7709.3367341 ,   157.28496832,  7365.1625435 ,  1655.40494809,\n",
       "        2260.14784373,  1011.39175496,  7581.35071008,  5619.64791949,\n",
       "        4884.53567693,  3917.12402064,  6760.98457811,  7501.16117167,\n",
       "        4657.02758726,  4652.5114306 ,  7956.19927733,  1867.56971947,\n",
       "        1422.16738972,  5398.17830585,  4567.06189414,  1515.77206127,\n",
       "        4870.09175987,  8643.46719697,  5272.91293617,  1632.61680611,\n",
       "        6289.42467955,  5597.6010714 ,  6431.64428449,  7226.16647065,\n",
       "        4964.90157321,  5310.87989192,  6096.90938196,  6893.46457589,\n",
       "        1248.0365839 ,  3164.15899064,  4253.7535548 ,  5942.9405805 ,\n",
       "        3482.22396466,  9378.60511203,  3881.05648812,  4558.68462408,\n",
       "        4687.42639895,  7713.45533243,  8803.48484923,  1759.17634258,\n",
       "        2654.08036843,  4734.63488594,  4182.28572965,  1412.40712427,\n",
       "        6391.94405669,  2267.0300229 ,  9885.46270473,  8121.59591495,\n",
       "        8456.18690746,  6598.87656842,  3475.85129485,  1573.14850819,\n",
       "        5108.52018371,  5767.90375437,  7562.3431547 ,  4681.47528087,\n",
       "        4697.01878437,  2850.22961332,  3303.37428109,  3105.67878234,\n",
       "        6328.12515107,  2740.07666644, 12298.18481411,  5869.75533747,\n",
       "        5574.85329958,  4370.47305259,  5227.69423225,  1585.12671593,\n",
       "        2587.98668234,  8081.15963781,  6130.15840703,  4122.92259931,\n",
       "        2319.6878546 ,  8159.83715244,  3433.0103715 ,  7586.95143481,\n",
       "        6520.0019435 ,  6708.35333259,  1609.84507327,  2559.7516014 ,\n",
       "        1351.71446889,  8337.41476132,  6548.42242628,  3941.60089215,\n",
       "        4116.81224228,  6114.5359086 ,  6272.89066966,  1458.9172486 ,\n",
       "        4208.34263328,  5885.72510549,  4780.52611625,  4788.09232483,\n",
       "        5877.64664011,  3764.68546647,  3443.60336059,  6090.47494202,\n",
       "        4252.61059228,  6764.92592702,  4829.77147294,  6209.12721414,\n",
       "        6081.78431559,  6293.03814604,  3485.12221758,  2148.81691945,\n",
       "        2284.92436692,  5637.13970381,  4085.8940853 ,  6238.547739  ,\n",
       "        6472.82512509,  5402.07733943,  8116.20598512,  2676.11777781,\n",
       "        5557.68878973,  4875.19023085,  4153.89696668,  6300.86855521,\n",
       "        4164.00467816,  2947.47279176,  1608.31753353,   -95.44374785,\n",
       "        4333.61018047,  5560.10710647,  6748.69101501,  5117.05744   ,\n",
       "        4643.84475036,  3351.46377892,  8971.8625609 ,  3615.80029224,\n",
       "        4722.07924661,  6612.08696901,  3718.87860337,  3969.48981013,\n",
       "        7250.80747101,  1363.66989352,  6200.83773955,  4623.02899568,\n",
       "        6839.27070467,  3886.51028856,  8114.6848949 ,  5794.09917799,\n",
       "         583.29360809,  4855.39597286,  4938.5874578 ,  3727.72547676,\n",
       "        5854.77544319,  8316.26146154,  6300.3988086 ,  5601.06113225,\n",
       "        3540.70740338,  2572.62067703,  2994.40899217,  6105.81043299,\n",
       "         897.81593145,  4157.31043312,  6358.17800063,   425.64713884,\n",
       "        6469.1259981 ,  5554.61466396,  7012.17170997,  5478.79613744,\n",
       "        6450.28053391,  5278.89676181,  5572.06133155,  6662.59533038,\n",
       "        3536.612371  ,  6265.16662228,  3484.75507563,  3870.53498745,\n",
       "        5286.32245235,  9455.73695547,  2922.81844816,  2733.67792854,\n",
       "        2642.48099439,  3931.2006731 ,  8002.05877547,  7728.68265543,\n",
       "        8730.63330169,  4751.30351605,  7307.36878024,  3945.8553914 ,\n",
       "        4789.98819884,  6154.21918716,  5360.02451654,  6990.04578589,\n",
       "         901.60290505,  8922.00275771,  3091.01905506,  4279.05638309,\n",
       "        6132.15618425,  3425.09387409,  1154.19334851,  6511.91442111,\n",
       "        4551.0271766 ,  4430.04716974,  2933.52996094,  7288.29377454,\n",
       "        5628.63012806,  5173.77164342,   -32.46901744,  4116.16422878,\n",
       "        3777.68368415,  3891.06855171,  5130.67371979,  5174.91403847,\n",
       "        6874.84181538,  8355.30814194,  4017.39591767,  4934.49897435,\n",
       "        8082.26507467,  5570.72782848,  5055.66890791,  4920.57229687,\n",
       "        2700.72245831,  9772.34707151,  6704.01984874,  5246.17407227,\n",
       "        5926.88399331,  7706.38945519,  6828.09902269,  8039.0549004 ,\n",
       "        4378.1969953 ,  6738.27718156,  3100.47323725,  5707.84677201,\n",
       "        7708.43570712,  5697.27753203,  3672.40623417,  7352.15575254,\n",
       "        2848.0588202 ,  5982.359905  ,  5166.66419543,  2250.33724157,\n",
       "        4382.11719366,  4492.3224421 ,  6055.63838377,  5881.97294593,\n",
       "        8885.66503671,  6324.7276922 ,  1839.8124983 ,  8118.73475971,\n",
       "        3077.04798802,  2073.97905557,  5060.67739096,  5143.36257405,\n",
       "       10333.91314192,  6415.47655564,  3251.0032879 ,  5334.49240369,\n",
       "        5837.96080553,  3004.07961194,  5869.52974853,  4964.85712145,\n",
       "        3426.18920504,  4813.20886517,  5823.34777644,  6025.7258003 ,\n",
       "        4201.10934064,  4697.76223354,  3883.87976088,  3579.61356343,\n",
       "        6876.90077327,  3751.01947874,  4752.18369221,  2227.33334143,\n",
       "        6106.61313564,  6765.72247328,  3287.1489948 ,  7250.85414658,\n",
       "        9904.11427248,  4327.32505432, 11669.65800694,  6236.34242611,\n",
       "        5355.95752949,  3529.75021001, 11259.1236695 ,  5276.46391914,\n",
       "        3691.47929561,  3469.2911624 ,  3502.51913042,  1676.4482053 ,\n",
       "        7305.39554666,  3058.05055156,  7146.64010957,  4744.98653326,\n",
       "        3060.05368497,  4662.02631255,  7862.50359963,  4779.46195406,\n",
       "        4205.80590039,  6213.17000405,  2466.40340154,  5108.29940126,\n",
       "        6746.46908729,  6299.62609931, 10054.11670739,  4561.5398858 ,\n",
       "        3889.51065419,  3195.76870448,  3953.25818494,  8109.83878087,\n",
       "        6159.83924039,  2655.0812658 ,  4347.72046978,  2711.71523974,\n",
       "        2400.76842975,  1743.28182274,  2767.81194439,  5855.25417269,\n",
       "        5411.94024883,  5451.58325464,  3216.46872774,  5458.18530131,\n",
       "        7952.18450881,  5843.23808146,  5362.32495778,  4849.75718567,\n",
       "        7802.23292216,  3073.68873084,  5728.45995728,  6335.96137279,\n",
       "        4553.3433898 ,  9037.9772917 ,  5868.8758887 ,  8074.06843061,\n",
       "        3185.38801259,  4934.0057063 ,  3625.16389468,  4190.50922402,\n",
       "        3466.13580759,  5740.90750391,  2726.78707641,  2704.67017226,\n",
       "        6305.85343981,  5491.00246684,  4723.71188166,  5972.10135897,\n",
       "        1117.54853456,  7094.09239844,  6563.35109215,  5594.40365775,\n",
       "        3499.18618111,  5220.89377518,  7167.52388726,   612.6830807 ,\n",
       "        3984.48618419,  4007.7013537 ,  4096.32583721,  6074.17207711,\n",
       "        4227.40936895,  6293.2330663 ,  7429.90910857,  3693.47293993,\n",
       "        7729.49144661,  5309.70931503,  6470.32421694,  5242.78598023,\n",
       "        8038.72211916,  5688.79848733,  5477.04890792,  1064.06866426,\n",
       "        2433.4850029 ,  4613.74170151,  3848.04807518,  3747.26399442,\n",
       "        3677.62544106,  4433.61960561,  -508.37972404,  3425.94915945,\n",
       "        2951.47559351,  6758.83660009,  2340.221042  ,  2845.30127041,\n",
       "        7192.14934774,  6095.93669018,  5413.16471763,  6145.75907666,\n",
       "        3586.59864783,  5964.35713942,  5570.9955585 ,  4685.486145  ,\n",
       "        7501.34029249,  4202.50322611,  2629.31761826,  5921.63918885,\n",
       "        3664.25963605,  7524.81406407,  8294.12540019,  4090.99382785,\n",
       "        6888.00428136,  4791.69078521,  6361.56225363,  7651.92379432,\n",
       "        9379.98264835,  4565.21899059,  6719.66968815,  4404.15924442,\n",
       "        5388.32538649,  2341.45819355,  -246.40118374,  2963.81022126,\n",
       "        7660.09799454,  5447.39143008,  7405.37694908,  8241.95038906,\n",
       "        4675.30487958,  3139.48579666,  6112.73878288,  8524.7161489 ,\n",
       "        3374.00999362,  4230.93076498,  5735.89471179,  4851.41118286])"
      ]
     },
     "execution_count": 65,
     "metadata": {},
     "output_type": "execute_result"
    }
   ],
   "source": [
    "# Random kullanarak sample bir veri setini kendimiz oluşturalım.\n",
    "# Aylık gelir 5000 tl ve  Standart sapma 2000 tl olsun, 1000 kişinin random aylık gelirini oluşturalım. \n",
    "\n",
    "#Let's create a sample data set ourselves using # Random.\n",
    "# Let the monthly income be 5000 TL and the standard deviation be 2000 TL, let's create the random monthly income of 1000 people.\n",
    "\n",
    "\n",
    "gelirler = np.random.normal(5000, 2000, 1000)\n",
    "gelirler\n"
   ]
  },
  {
   "cell_type": "code",
   "execution_count": 67,
   "id": "3b502375-58f4-41d8-b219-07f0eb94104c",
   "metadata": {},
   "outputs": [
    {
     "data": {
      "text/plain": [
       "4054306.679827993"
      ]
     },
     "execution_count": 67,
     "metadata": {},
     "output_type": "execute_result"
    }
   ],
   "source": [
    "gelirler.var()   # varyansı verir. (# returns the variance.)"
   ]
  },
  {
   "cell_type": "code",
   "execution_count": 69,
   "id": "8e49cd57-1d09-497f-97a0-939332d56ac8",
   "metadata": {},
   "outputs": [
    {
     "data": {
      "text/plain": [
       "2013.5308986524128"
      ]
     },
     "execution_count": 69,
     "metadata": {},
     "output_type": "execute_result"
    }
   ],
   "source": [
    "gelirler.std()    # Standart Sapma hesaplanır. (# Standard Deviation is calculated.)"
   ]
  },
  {
   "cell_type": "code",
   "execution_count": null,
   "id": "fff9385c-8ebe-4643-b610-d0b880dbd28f",
   "metadata": {},
   "outputs": [],
   "source": []
  }
 ],
 "metadata": {
  "kernelspec": {
   "display_name": "Python 3 (ipykernel)",
   "language": "python",
   "name": "python3"
  },
  "language_info": {
   "codemirror_mode": {
    "name": "ipython",
    "version": 3
   },
   "file_extension": ".py",
   "mimetype": "text/x-python",
   "name": "python",
   "nbconvert_exporter": "python",
   "pygments_lexer": "ipython3",
   "version": "3.12.4"
  }
 },
 "nbformat": 4,
 "nbformat_minor": 5
}
