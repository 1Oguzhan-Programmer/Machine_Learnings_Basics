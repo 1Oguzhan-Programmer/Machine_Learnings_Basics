{
 "cells": [
  {
   "cell_type": "markdown",
   "id": "3bf869be-87cc-4e62-8af6-2d50b2274444",
   "metadata": {},
   "source": [
    "                                    # K- Kümeleme Anlamına Gelir (K- Means Clustering)\n",
    "\n",
    "# Çok fazla sayıdaki ham veriyi gruplara ayırmk için kullanılır.\n",
    "# Ham veriler hakkında önceden sizin sınıflandırma yapmamanız gerekmektedir.\n",
    "# Yapay zeka sizin için sınıflandırmayı yapar, ona yol göstermenize gerek yoktur, tüm işi kendi yapar. (Unsuperised learning modeller grubuna girer.)\n",
    "# Unsupervised Learning modellerinden en yaygın kullanılanıdır.\n",
    "# Bu işlemi yaparken centroid sistemini kullanır. (Yuvarlak Şekiller) \n",
    "\n",
    "\n",
    "\n",
    "# It is used to separate large amounts of raw data into groups.\n",
    "# You should not classify the raw data in advance.\n",
    "# Artificial intelligence does the classification for you, you do not need to guide it, it does all the work itself. (It falls into the group of Unsupervised Learning models.)\n",
    "# It is the most widely used of Unsupervised Learning models.\n",
    "# It uses the centroid system while doing this. (Round Shapes)\n",
    "\n",
    "\n",
    "\n",
    "\n",
    "\n",
    "                                                     # K-Means Clustering Teori\n",
    "\n",
    "# Ham datayı gruplamak için önce kaç adet grup kullanacağını siz algoritmaya söylemeniz lazım. K-Means kelimesindeki K => K adet centroidi ifade eder. Yani kaç tane gruba böleceğini temsil eder.                                                    \n",
    "\n",
    "\n",
    "# To group the raw data, you must first tell the algorithm how many groups it will use. The K in the word K-Means => K represents the number of centroids. That is, it represents how many groups to divide it into.\n",
    "\n",
    "\n",
    "# Mantığı (logic)\n",
    "\n",
    "# 1) K adet centroid(Merkez  Nokta) seçilir. Yani kaç K'ya böleceğini biz belirleriz.\n",
    "# 2) Her veriyi(noktayı) kendisine en yakın centroid grubuna dahil eder.\n",
    "# 3) Her centroidin merkezini kendi grubundaki noktalara bakarak tekrar hesaplar ve centroidi yeni merkez lokasyonuna koyar.\n",
    "# 4) 2. ve 3. adımı centroidler artık değiştirmeyene kadar devam ettirir.(Yani ikinci adıma tekrar döner.)\n",
    "# 5) Artık centroidlerin merkezi değişmemektedir, bu durumada gruplamayı bitirir.\n",
    "\n",
    "\n",
    "\n",
    "# 1) K number of centroids are selected. In other words, we determine how many K to divide.\n",
    "# 2) Each data (point) is included in the centroid group closest to it.\n",
    "# 3) Recalculates the center of each centroid by looking at the points in its group and places the centroid in the new center location.\n",
    "# 4) Continues steps 2 and 3 until the centroids no longer change. (In other words, returns to step 2.)\n",
    "# 5) The center of the centroids no longer changes, in which case it ends the grouping.\n",
    "\n",
    "\n",
    "\n",
    "\n",
    "\n",
    "\n",
    "# Gruplandırma işlem bittiğinde yeni bir veri(nokta) geldiğinde, bu noktayı hangi gruba dail edeceğine karar verirken en yakın centroid belirlenecek o centroidin bağlı olduğu gruba ait olduğu kararlaştırılır. \n",
    "\n",
    "# When a new data (point) arrives after the grouping process is completed, when deciding which group to include this point, the closest centroid will be determined and it will be decided that the centroid belongs to the group it is connected to.\n",
    "\n",
    "\n",
    "\n",
    "# K değerini belirlerken elbow(dirsek) metodu kullanılır. K değerini distortion değerleri ile birlikte grafiğe döktüğünüzde dirsek noktasınd bulunan K değeri en optimal :K değeri olarak kabul edilir.\n",
    "\n",
    "# The elbow method is used to determine the K value. When you plot the K value together with the distortion values, the K value at the elbow point is accepted as the most optimal :K value.# The elbow method is used to determine the K value. When you plot the K value together with the distortion values, the K value at the elbow point is accepted as the most optimal :K value.\n",
    "\n",
    "\n",
    "\n",
    "\n",
    "# K-Means nerelerde kullanılır?        (Where is K-Means used?)\n",
    "\n",
    "# Toplu verinizin olduğu ve gruplama yapmak istediğiniz ancak yapmadığınız her alanda kullanabilirsiniz.\n",
    "\n",
    "\n",
    "# You can use it in any area where you have aggregated data and want to group it but haven't done so yet.\n"
   ]
  },
  {
   "cell_type": "markdown",
   "id": "dfea15f3-ab9b-4f82-9a54-783ac75c664a",
   "metadata": {},
   "source": [
    "                                                       # proje(project)  \n",
    "\n",
    "# Avm yönetimi müşterilerde bulunan AVM kartları sayesinde müşterilerine ait bazı bilgileri kaydetmiştir ancak henüz herhangi bir gruplama yapmamıştır.\n",
    "# Projemizde bu müşteriler için gruplama yapacağız.\n",
    "\n",
    "\n",
    "# The shopping mall management has recorded some information about its customers through the shopping mall cards they have, but has not yet made any grouping.\n",
    "# We will make groupings for these customers in our project.\n",
    "\n",
    "\n"
   ]
  },
  {
   "cell_type": "code",
   "execution_count": 4,
   "id": "c29f863c-eacf-4a90-962f-f014e4096f15",
   "metadata": {},
   "outputs": [
    {
     "data": {
      "text/html": [
       "<div>\n",
       "<style scoped>\n",
       "    .dataframe tbody tr th:only-of-type {\n",
       "        vertical-align: middle;\n",
       "    }\n",
       "\n",
       "    .dataframe tbody tr th {\n",
       "        vertical-align: top;\n",
       "    }\n",
       "\n",
       "    .dataframe thead th {\n",
       "        text-align: right;\n",
       "    }\n",
       "</style>\n",
       "<table border=\"1\" class=\"dataframe\">\n",
       "  <thead>\n",
       "    <tr style=\"text-align: right;\">\n",
       "      <th></th>\n",
       "      <th>CustomerID</th>\n",
       "      <th>Annual Income (k$)</th>\n",
       "      <th>Spending Score (1-100)</th>\n",
       "    </tr>\n",
       "  </thead>\n",
       "  <tbody>\n",
       "    <tr>\n",
       "      <th>0</th>\n",
       "      <td>1</td>\n",
       "      <td>15</td>\n",
       "      <td>39</td>\n",
       "    </tr>\n",
       "    <tr>\n",
       "      <th>1</th>\n",
       "      <td>2</td>\n",
       "      <td>15</td>\n",
       "      <td>81</td>\n",
       "    </tr>\n",
       "    <tr>\n",
       "      <th>2</th>\n",
       "      <td>3</td>\n",
       "      <td>16</td>\n",
       "      <td>6</td>\n",
       "    </tr>\n",
       "    <tr>\n",
       "      <th>3</th>\n",
       "      <td>4</td>\n",
       "      <td>16</td>\n",
       "      <td>77</td>\n",
       "    </tr>\n",
       "    <tr>\n",
       "      <th>4</th>\n",
       "      <td>5</td>\n",
       "      <td>17</td>\n",
       "      <td>40</td>\n",
       "    </tr>\n",
       "  </tbody>\n",
       "</table>\n",
       "</div>"
      ],
      "text/plain": [
       "   CustomerID  Annual Income (k$)  Spending Score (1-100)\n",
       "0           1                  15                      39\n",
       "1           2                  15                      81\n",
       "2           3                  16                       6\n",
       "3           4                  16                      77\n",
       "4           5                  17                      40"
      ]
     },
     "execution_count": 4,
     "metadata": {},
     "output_type": "execute_result"
    }
   ],
   "source": [
    "from sklearn.cluster import KMeans\n",
    "import pandas as pd\n",
    "from sklearn.preprocessing import MinMaxScaler\n",
    "from matplotlib import pyplot as plt\n",
    "\n",
    "df = pd.read_csv(\"Avm_Musterileri.csv\")\n",
    "df.head()"
   ]
  },
  {
   "cell_type": "markdown",
   "id": "769ad8a9-0409-4ac8-9bb5-ff638af4f6e4",
   "metadata": {},
   "source": [
    "# MinMaxScaler, scikit-learn kütüphanesinin bir parçasıdır ve veri ön işleme için kullanılan bir araçtır. Özellikle, verilerin belirli bir aralığa (genellikle [0, 1] aralığına) ölçeklenmesi gerektiğinde kullanılır. Bu, farklı özelliklerin (özellikler veya değişkenler) farklı ölçeklerde veya birimlerde olduğu durumlarda verilerin normalize edilmesine yardımcı olur.\n",
    "\n",
    "\n",
    "\n",
    "# MinMaxScaler is part of the scikit-learn library and is a tool used for data preprocessing. It is used specifically when data needs to be scaled to a specific range (usually the range [0, 1]). This helps in normalizing data in cases where different features (attributes or variables) have different scales or units."
   ]
  },
  {
   "cell_type": "code",
   "execution_count": 11,
   "id": "67b7bdcc-51d5-4147-9dc7-4fa362b30ebc",
   "metadata": {},
   "outputs": [
    {
     "data": {
      "image/png": "[encoded data removed]",
      "text/plain": [
       "<Figure size 640x480 with 1 Axes>"
      ]
     },
     "metadata": {},
     "output_type": "display_data"
    }
   ],
   "source": [
    "plt.scatter(df[\"Annual Income (k$)\"], df[\"Spending Score (1-100)\"])         # Annual Income: Yıllık Gelir\n",
    "plt.xlabel(\"Annual Icome (k$)\")                                             # Spending Score: Harcama Puanı\n",
    "plt.ylabel(\"Spending Score (1-100)\")\n",
    "plt.show()            "
   ]
  },
  {
   "cell_type": "code",
   "execution_count": 17,
   "id": "c29f62cd-2cca-477a-8a37-fa442d1b9c35",
   "metadata": {},
   "outputs": [],
   "source": [
    "# Bazı sütun isimleri çok uzun onları kısaltalım. (# Some column names are too long, let's shorten them.)\n",
    "\n",
    "df.rename(columns = {\"Annual Income (k$)\": \"income\"}, inplace = True)\n",
    "df.rename(columns = {\"Spending Score (1-100)\" : \"score\"}, inplace = True)    # True deyince df ismi değişir. False derseniz yeni dataframe olarak oluşturur. "
   ]
  },
  {
   "cell_type": "markdown",
   "id": "7679b8b8-1e50-4851-91ad-ca1690d49d1c",
   "metadata": {},
   "source": [
    "# Unutmayın modelinize verileri basmadan önce mutlaka verilerinizi normalize etmelisiniz. Geçen dersimizde normalizasyon biz kendimiz yapmıştık bu sefer sklearn kütüphanesinin MinMaxScaler() fonksiyonunu kullanacağız.\n",
    "\n"
   ]
  },
  {
   "cell_type": "code",
   "execution_count": 21,
   "id": "4ae11566-ed8e-421a-b996-c6693724c3c6",
   "metadata": {},
   "outputs": [
    {
     "data": {
      "text/html": [
       "<div>\n",
       "<style scoped>\n",
       "    .dataframe tbody tr th:only-of-type {\n",
       "        vertical-align: middle;\n",
       "    }\n",
       "\n",
       "    .dataframe tbody tr th {\n",
       "        vertical-align: top;\n",
       "    }\n",
       "\n",
       "    .dataframe thead th {\n",
       "        text-align: right;\n",
       "    }\n",
       "</style>\n",
       "<table border=\"1\" class=\"dataframe\">\n",
       "  <thead>\n",
       "    <tr style=\"text-align: right;\">\n",
       "      <th></th>\n",
       "      <th>CustomerID</th>\n",
       "      <th>income</th>\n",
       "      <th>score</th>\n",
       "    </tr>\n",
       "  </thead>\n",
       "  <tbody>\n",
       "    <tr>\n",
       "      <th>0</th>\n",
       "      <td>1</td>\n",
       "      <td>0.000000</td>\n",
       "      <td>0.387755</td>\n",
       "    </tr>\n",
       "    <tr>\n",
       "      <th>1</th>\n",
       "      <td>2</td>\n",
       "      <td>0.000000</td>\n",
       "      <td>0.816327</td>\n",
       "    </tr>\n",
       "    <tr>\n",
       "      <th>2</th>\n",
       "      <td>3</td>\n",
       "      <td>0.008197</td>\n",
       "      <td>0.051020</td>\n",
       "    </tr>\n",
       "    <tr>\n",
       "      <th>3</th>\n",
       "      <td>4</td>\n",
       "      <td>0.008197</td>\n",
       "      <td>0.775510</td>\n",
       "    </tr>\n",
       "    <tr>\n",
       "      <th>4</th>\n",
       "      <td>5</td>\n",
       "      <td>0.016393</td>\n",
       "      <td>0.397959</td>\n",
       "    </tr>\n",
       "  </tbody>\n",
       "</table>\n",
       "</div>"
      ],
      "text/plain": [
       "   CustomerID    income     score\n",
       "0           1  0.000000  0.387755\n",
       "1           2  0.000000  0.816327\n",
       "2           3  0.008197  0.051020\n",
       "3           4  0.008197  0.775510\n",
       "4           5  0.016393  0.397959"
      ]
     },
     "execution_count": 21,
     "metadata": {},
     "output_type": "execute_result"
    }
   ],
   "source": [
    "scaler = MinMaxScaler()\n",
    "scaler.fit(df[[\"income\"]])\n",
    "df[\"income\"] = scaler.transform(df[[\"income\"]])\n",
    "\n",
    "scaler.fit(df[[\"score\"]])\n",
    "df[\"score\"] = scaler.transform(df[[\"score\"]])\n",
    "\n",
    "df.head()"
   ]
  },
  {
   "cell_type": "code",
   "execution_count": 27,
   "id": "ed5c8056-761f-425a-8c6a-efe5980b44a1",
   "metadata": {},
   "outputs": [],
   "source": [
    "# Öne K değerini belirleyelim (Elbow Yöntemi kullanarak)\n",
    "\n",
    "k_range = range(1,11)\n",
    "\n",
    "list_dist = []\n",
    "\n",
    "\n",
    "for k in k_range:\n",
    "    kmeans_modelim = KMeans(n_clusters=k)\n",
    "    kmeans_modelim.fit(df[[\"income\", \"score\"]])\n",
    "    list_dist.append(kmeans_modelim.inertia_)"
   ]
  },
  {
   "cell_type": "markdown",
   "id": "5908948f-a806-4e81-bdef-9b24704d0dfc",
   "metadata": {},
   "source": [
    "# for k in k_range Ne Anlama Gelir?\n",
    "\n",
    "\n",
    "# k_range: Bu, üzerinde döngü yapılacak olan değerlerin bulunduğu bir koleksiyondur. Bu bir liste, aralık (range), veya herhangi bir iterable (iteratif) olabilir.\n",
    "# k: Döngü sırasında k_range koleksiyonundaki her bir öğeyi temsil eden değişkendir.\n",
    "\n",
    "\n",
    "# What Does for k in k_range Mean?\n",
    "\n",
    "# k_range: This is a collection of values ​​to loop over. This can be a list, range, or any iterable.\n",
    "# k: The variable that represents each element in the k_range collection during the loop."
   ]
  },
  {
   "cell_type": "code",
   "execution_count": 36,
   "id": "64a96a85-5621-4dc2-8331-2adbbb663566",
   "metadata": {},
   "outputs": [
    {
     "data": {
      "image/png": "[encoded data removed]",
      "text/plain": [
       "<Figure size 640x480 with 1 Axes>"
      ]
     },
     "metadata": {},
     "output_type": "display_data"
    }
   ],
   "source": [
    "plt.xlabel(\"K\")\n",
    "plt.ylabel(\"Distortion değeri (inertia)\")\n",
    "plt.plot(k_range,list_dist)\n",
    "plt.show()"
   ]
  },
  {
   "cell_type": "code",
   "execution_count": 40,
   "id": "a90ab8ee-87d9-4e6b-bab0-749d37660006",
   "metadata": {},
   "outputs": [
    {
     "data": {
      "text/plain": [
       "array([1, 4, 1, 4, 1, 4, 1, 4, 1, 4, 1, 4, 1, 4, 1, 4, 1, 4, 1, 4, 1, 4,\n",
       "       1, 4, 1, 4, 1, 4, 1, 4, 1, 4, 1, 4, 1, 4, 1, 4, 1, 4, 1, 4, 3, 3,\n",
       "       1, 4, 3, 3, 3, 3, 3, 3, 3, 3, 3, 3, 3, 3, 3, 3, 3, 3, 3, 3, 3, 3,\n",
       "       3, 3, 3, 3, 3, 3, 3, 3, 3, 3, 3, 3, 3, 3, 3, 3, 3, 3, 3, 3, 3, 3,\n",
       "       3, 3, 3, 3, 3, 3, 3, 3, 3, 3, 3, 3, 3, 3, 3, 3, 3, 3, 3, 3, 3, 3,\n",
       "       3, 3, 3, 3, 3, 3, 3, 3, 3, 3, 3, 3, 3, 0, 2, 0, 3, 0, 2, 0, 2, 0,\n",
       "       2, 0, 2, 0, 2, 0, 2, 0, 2, 0, 3, 0, 2, 0, 2, 0, 2, 0, 2, 0, 2, 0,\n",
       "       2, 0, 2, 0, 2, 0, 2, 0, 2, 0, 2, 0, 2, 0, 2, 0, 2, 0, 2, 0, 2, 0,\n",
       "       2, 0, 2, 0, 2, 0, 2, 0, 2, 0, 2, 0, 2, 0, 2, 0, 2, 0, 2, 0, 2, 0,\n",
       "       2, 0], dtype=int32)"
      ]
     },
     "execution_count": 40,
     "metadata": {},
     "output_type": "execute_result"
    }
   ],
   "source": [
    "# K = 5 için bir K-Means modeli oluşturalım. (En iyi k değeri 5 olduğu için)\n",
    "\n",
    "kmeans_modelim = KMeans(n_clusters = 5)\n",
    "y_predicted = kmeans_modelim.fit_predict(df[[\"income\", \"score\"]])\n",
    "y_predicted"
   ]
  },
  {
   "cell_type": "code",
   "execution_count": 42,
   "id": "73a20f90-9442-4686-b7c5-3cf21945ffcf",
   "metadata": {},
   "outputs": [
    {
     "data": {
      "text/html": [
       "<div>\n",
       "<style scoped>\n",
       "    .dataframe tbody tr th:only-of-type {\n",
       "        vertical-align: middle;\n",
       "    }\n",
       "\n",
       "    .dataframe tbody tr th {\n",
       "        vertical-align: top;\n",
       "    }\n",
       "\n",
       "    .dataframe thead th {\n",
       "        text-align: right;\n",
       "    }\n",
       "</style>\n",
       "<table border=\"1\" class=\"dataframe\">\n",
       "  <thead>\n",
       "    <tr style=\"text-align: right;\">\n",
       "      <th></th>\n",
       "      <th>CustomerID</th>\n",
       "      <th>income</th>\n",
       "      <th>score</th>\n",
       "      <th>cluster</th>\n",
       "    </tr>\n",
       "  </thead>\n",
       "  <tbody>\n",
       "    <tr>\n",
       "      <th>0</th>\n",
       "      <td>1</td>\n",
       "      <td>0.000000</td>\n",
       "      <td>0.387755</td>\n",
       "      <td>1</td>\n",
       "    </tr>\n",
       "    <tr>\n",
       "      <th>1</th>\n",
       "      <td>2</td>\n",
       "      <td>0.000000</td>\n",
       "      <td>0.816327</td>\n",
       "      <td>4</td>\n",
       "    </tr>\n",
       "    <tr>\n",
       "      <th>2</th>\n",
       "      <td>3</td>\n",
       "      <td>0.008197</td>\n",
       "      <td>0.051020</td>\n",
       "      <td>1</td>\n",
       "    </tr>\n",
       "    <tr>\n",
       "      <th>3</th>\n",
       "      <td>4</td>\n",
       "      <td>0.008197</td>\n",
       "      <td>0.775510</td>\n",
       "      <td>4</td>\n",
       "    </tr>\n",
       "    <tr>\n",
       "      <th>4</th>\n",
       "      <td>5</td>\n",
       "      <td>0.016393</td>\n",
       "      <td>0.397959</td>\n",
       "      <td>1</td>\n",
       "    </tr>\n",
       "  </tbody>\n",
       "</table>\n",
       "</div>"
      ],
      "text/plain": [
       "   CustomerID    income     score  cluster\n",
       "0           1  0.000000  0.387755        1\n",
       "1           2  0.000000  0.816327        4\n",
       "2           3  0.008197  0.051020        1\n",
       "3           4  0.008197  0.775510        4\n",
       "4           5  0.016393  0.397959        1"
      ]
     },
     "execution_count": 42,
     "metadata": {},
     "output_type": "execute_result"
    }
   ],
   "source": [
    "df[\"cluster\"] = y_predicted    # ismini cluster veriyoruz.\n",
    "df.head()"
   ]
  },
  {
   "cell_type": "code",
   "execution_count": 44,
   "id": "1c405086-ae6b-4118-8799-1ac1ed5b8757",
   "metadata": {},
   "outputs": [
    {
     "data": {
      "text/plain": [
       "array([[0.58638083, 0.82783883],\n",
       "       [0.08792846, 0.19619666],\n",
       "       [0.59631148, 0.16921769],\n",
       "       [0.32695811, 0.49533888],\n",
       "       [0.08792846, 0.79962894]])"
      ]
     },
     "execution_count": 44,
     "metadata": {},
     "output_type": "execute_result"
    }
   ],
   "source": [
    "# centroidleri görelim\n",
    "kmeans_modelim.cluster_centers_"
   ]
  },
  {
   "cell_type": "code",
   "execution_count": 48,
   "id": "0a92d0a0-aa43-4ff6-9677-8f0abe210c74",
   "metadata": {},
   "outputs": [
    {
     "data": {
      "text/plain": [
       "<matplotlib.collections.PathCollection at 0x78b183c54620>"
      ]
     },
     "execution_count": 48,
     "metadata": {},
     "output_type": "execute_result"
    },
    {
     "data": {
      "image/png": "[encoded data removed]",
      "text/plain": [
       "<Figure size 640x480 with 1 Axes>"
      ]
     },
     "metadata": {},
     "output_type": "display_data"
    }
   ],
   "source": [
    "# grafik halinide görelim.\n",
    "\n",
    "df1 = df[df.cluster ==0]       # df.cluster  = pandasın filtreleme özelliği kodu\n",
    "df2 = df[df.cluster ==1]\n",
    "df3 = df[df.cluster ==2]\n",
    "df4 = df[df.cluster ==3]\n",
    "df5 = df[df.cluster ==4]\n",
    "\n",
    "plt.xlabel(\"income\")\n",
    "plt.ylabel(\"score\")\n",
    "plt.scatter(df1[\"income\"],df1[\"score\"],color=\"green\")\n",
    "plt.scatter(df2[\"income\"],df2[\"score\"],color=\"red\")\n",
    "plt.scatter(df3[\"income\"],df3[\"score\"],color=\"black\")\n",
    "plt.scatter(df4[\"income\"],df4[\"score\"],color=\"orange\")\n",
    "plt.scatter(df5[\"income\"],df5[\"score\"],color=\"purple\")"
   ]
  },
  {
   "cell_type": "code",
   "execution_count": 52,
   "id": "35e06df0-3633-4f52-97d0-04da53e7a89b",
   "metadata": {},
   "outputs": [
    {
     "data": {
      "image/png": "[encoded data removed]",
      "text/plain": [
       "<Figure size 640x480 with 1 Axes>"
      ]
     },
     "metadata": {},
     "output_type": "display_data"
    }
   ],
   "source": [
    "# kmeans_modelim.cluster.centers_ numpy 2 boyutlu array olduğu için x vey sütunlarını kmeans_modelim.cluster_centers_[:,0]\n",
    "# ve kmeans_modelim.cluster_centers_[:,1] şekinde scatter plot için alıyoruz.\n",
    "\n",
    "\n",
    "# Since kmeans_modelim.cluster.centers_ is a numpy 2-dimensional array, we take the x and y columns as kmeans_modelim.cluster_centers_[:,0]\n",
    "# and kmeans_modelim.cluster_centers_[:,1] for the scatter plot.\n",
    "\n",
    "plt.scatter(kmeans_modelim.cluster_centers_[:,0], kmeans_modelim.cluster_centers_[:,1], color='blue', marker='X', label='centroid')\n",
    "plt.legend()\n",
    "plt.show()"
   ]
  },
  {
   "cell_type": "code",
   "execution_count": null,
   "id": "dc8bfb3c-9267-4c70-892d-0cd2adc36d1c",
   "metadata": {},
   "outputs": [],
   "source": []
  }
 ],
 "metadata": {
  "kernelspec": {
   "display_name": "Python 3 (ipykernel)",
   "language": "python",
   "name": "python3"
  },
  "language_info": {
   "codemirror_mode": {
    "name": "ipython",
    "version": 3
   },
   "file_extension": ".py",
   "mimetype": "text/x-python",
   "name": "python",
   "nbconvert_exporter": "python",
   "pygments_lexer": "ipython3",
   "version": "3.12.4"
  }
 },
 "nbformat": 4,
 "nbformat_minor": 5
}
