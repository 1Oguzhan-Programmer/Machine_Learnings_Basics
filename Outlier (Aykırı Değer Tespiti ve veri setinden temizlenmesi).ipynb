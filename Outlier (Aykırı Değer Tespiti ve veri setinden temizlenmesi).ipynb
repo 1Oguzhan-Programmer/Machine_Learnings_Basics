{
 "cells": [
  {
   "cell_type": "markdown",
   "id": "15694014-e4c5-4412-bd84-df6892053ec8",
   "metadata": {},
   "source": [
    "                              # Outlier (Aykırı Değer) Tespiti ve Veri Setinden Temizlenmesi İşlemleri\n",
    "                              (Outlier Detection and Cleaning from the Data Set Procedures)\n",
    "\n",
    "# Outlier, bir veriseti içerisindeki diğer gözlemlerden aykırı ve sapan gözlem veya veri değeridir.\n",
    "\n",
    "\n",
    "# Outlier Nedenleri ?\n",
    "\n",
    "# İnsan kaynaklı hatalar (hatalı veri girişi)\n",
    "# Cihazlardan kaynaklanan hatalar (Örneğin ölçüm cihazlarının nadiren de olsa yanlış değer ölçmesidir.)\n",
    "\n",
    "\n",
    "# Outlier is an observation or data value that is contrary and deviates from other observations in a data set.\n",
    "\n",
    "\n",
    "# Outlier Reasons ?\n",
    "\n",
    "# Human errors (incorrect data entry)\n",
    "# Errors caused by devices (For example, measuring devices rarely measure incorrect values.)"
   ]
  },
  {
   "cell_type": "code",
   "execution_count": 20,
   "id": "cabf54a3-b51b-43a3-bb49-e13fd66d2376",
   "metadata": {},
   "outputs": [
    {
     "data": {
      "text/html": [
       "<div>\n",
       "<style scoped>\n",
       "    .dataframe tbody tr th:only-of-type {\n",
       "        vertical-align: middle;\n",
       "    }\n",
       "\n",
       "    .dataframe tbody tr th {\n",
       "        vertical-align: top;\n",
       "    }\n",
       "\n",
       "    .dataframe thead th {\n",
       "        text-align: right;\n",
       "    }\n",
       "</style>\n",
       "<table border=\"1\" class=\"dataframe\">\n",
       "  <thead>\n",
       "    <tr style=\"text-align: right;\">\n",
       "      <th></th>\n",
       "      <th>isim</th>\n",
       "      <th>boy</th>\n",
       "    </tr>\n",
       "  </thead>\n",
       "  <tbody>\n",
       "    <tr>\n",
       "      <th>0</th>\n",
       "      <td>can</td>\n",
       "      <td>88</td>\n",
       "    </tr>\n",
       "    <tr>\n",
       "      <th>1</th>\n",
       "      <td>ali</td>\n",
       "      <td>132</td>\n",
       "    </tr>\n",
       "    <tr>\n",
       "      <th>2</th>\n",
       "      <td>tugce</td>\n",
       "      <td>134</td>\n",
       "    </tr>\n",
       "    <tr>\n",
       "      <th>3</th>\n",
       "      <td>ayse</td>\n",
       "      <td>137</td>\n",
       "    </tr>\n",
       "    <tr>\n",
       "      <th>4</th>\n",
       "      <td>nihan</td>\n",
       "      <td>139</td>\n",
       "    </tr>\n",
       "    <tr>\n",
       "      <th>5</th>\n",
       "      <td>sahin</td>\n",
       "      <td>142</td>\n",
       "    </tr>\n",
       "    <tr>\n",
       "      <th>6</th>\n",
       "      <td>kaan</td>\n",
       "      <td>142</td>\n",
       "    </tr>\n",
       "    <tr>\n",
       "      <th>7</th>\n",
       "      <td>emre</td>\n",
       "      <td>144</td>\n",
       "    </tr>\n",
       "    <tr>\n",
       "      <th>8</th>\n",
       "      <td>bartu</td>\n",
       "      <td>147</td>\n",
       "    </tr>\n",
       "    <tr>\n",
       "      <th>9</th>\n",
       "      <td>ismail</td>\n",
       "      <td>148</td>\n",
       "    </tr>\n",
       "    <tr>\n",
       "      <th>10</th>\n",
       "      <td>gokalp</td>\n",
       "      <td>149</td>\n",
       "    </tr>\n",
       "    <tr>\n",
       "      <th>11</th>\n",
       "      <td>osman</td>\n",
       "      <td>149</td>\n",
       "    </tr>\n",
       "    <tr>\n",
       "      <th>12</th>\n",
       "      <td>filiz</td>\n",
       "      <td>150</td>\n",
       "    </tr>\n",
       "    <tr>\n",
       "      <th>13</th>\n",
       "      <td>veli</td>\n",
       "      <td>207</td>\n",
       "    </tr>\n",
       "    <tr>\n",
       "      <th>14</th>\n",
       "      <td>ilker</td>\n",
       "      <td>234</td>\n",
       "    </tr>\n",
       "  </tbody>\n",
       "</table>\n",
       "</div>"
      ],
      "text/plain": [
       "      isim  boy\n",
       "0      can   88\n",
       "1      ali  132\n",
       "2    tugce  134\n",
       "3     ayse  137\n",
       "4    nihan  139\n",
       "5    sahin  142\n",
       "6     kaan  142\n",
       "7     emre  144\n",
       "8    bartu  147\n",
       "9   ismail  148\n",
       "10  gokalp  149\n",
       "11   osman  149\n",
       "12   filiz  150\n",
       "13    veli  207\n",
       "14   ilker  234"
      ]
     },
     "execution_count": 20,
     "metadata": {},
     "output_type": "execute_result"
    }
   ],
   "source": [
    "import pandas as pd\n",
    "\n",
    "df = pd.read_csv(\"outlier_ornek_veriseti.csv\", sep=\";\")\n",
    "df"
   ]
  },
  {
   "cell_type": "code",
   "execution_count": 21,
   "id": "7de3b916-8cc8-4c3d-b6e4-399e7b0cab8a",
   "metadata": {},
   "outputs": [
    {
     "data": {
      "text/html": [
       "<div>\n",
       "<style scoped>\n",
       "    .dataframe tbody tr th:only-of-type {\n",
       "        vertical-align: middle;\n",
       "    }\n",
       "\n",
       "    .dataframe tbody tr th {\n",
       "        vertical-align: top;\n",
       "    }\n",
       "\n",
       "    .dataframe thead th {\n",
       "        text-align: right;\n",
       "    }\n",
       "</style>\n",
       "<table border=\"1\" class=\"dataframe\">\n",
       "  <thead>\n",
       "    <tr style=\"text-align: right;\">\n",
       "      <th></th>\n",
       "      <th>boy</th>\n",
       "    </tr>\n",
       "  </thead>\n",
       "  <tbody>\n",
       "    <tr>\n",
       "      <th>count</th>\n",
       "      <td>15.000000</td>\n",
       "    </tr>\n",
       "    <tr>\n",
       "      <th>mean</th>\n",
       "      <td>149.466667</td>\n",
       "    </tr>\n",
       "    <tr>\n",
       "      <th>std</th>\n",
       "      <td>32.943386</td>\n",
       "    </tr>\n",
       "    <tr>\n",
       "      <th>min</th>\n",
       "      <td>88.000000</td>\n",
       "    </tr>\n",
       "    <tr>\n",
       "      <th>25%</th>\n",
       "      <td>138.000000</td>\n",
       "    </tr>\n",
       "    <tr>\n",
       "      <th>50%</th>\n",
       "      <td>144.000000</td>\n",
       "    </tr>\n",
       "    <tr>\n",
       "      <th>75%</th>\n",
       "      <td>149.000000</td>\n",
       "    </tr>\n",
       "    <tr>\n",
       "      <th>max</th>\n",
       "      <td>234.000000</td>\n",
       "    </tr>\n",
       "  </tbody>\n",
       "</table>\n",
       "</div>"
      ],
      "text/plain": [
       "              boy\n",
       "count   15.000000\n",
       "mean   149.466667\n",
       "std     32.943386\n",
       "min     88.000000\n",
       "25%    138.000000\n",
       "50%    144.000000\n",
       "75%    149.000000\n",
       "max    234.000000"
      ]
     },
     "execution_count": 21,
     "metadata": {},
     "output_type": "execute_result"
    }
   ],
   "source": [
    "df.describe()"
   ]
  },
  {
   "cell_type": "markdown",
   "id": "6f1c41a3-460d-423e-8d0a-80f3e77027e2",
   "metadata": {},
   "source": [
    "# pandas kütüphanesinde bulunan describe() fonksiyonu, bir veri çerçevesinin temel istatistiksel özetini sağlar. Bu fonksiyon, veri çerçevesindeki sayısal sütunların ortalamasını, standart sapmasını, minimum ve maksimum değerlerini, medyanı ve çeyrekliklerini gösterir. \n",
    "\n",
    "# Bu özet istatistikleri kullanarak veri setinin genel dağılımı hakkında hızlı bir bakış elde edebilirsiniz. Fonksiyon ayrıca eksik değerlerin sayısını da hesaplar.\n",
    "\n",
    "# Özetle, describe() fonksiyonu veri analizi sürecinde hızlı bir şekilde genel bir fikir edinmek için kullanılır.\n",
    "\n",
    "\n",
    "\n",
    "# The describe() function in the pandas library provides a basic statistical summary of a data frame. This function displays the mean, standard deviation, minimum and maximum values, median, and quartiles of the numerical columns in the data frame. \n",
    "\n",
    "# Using these summary statistics you can get a quick look at the overall distribution of the dataset. The function also calculates the number of missing values.\n",
    "\n",
    "# In summary, the describe() function is used to quickly get an overview of the data analysis process"
   ]
  },
  {
   "cell_type": "code",
   "execution_count": 23,
   "id": "99fa7c36-4939-45c8-9369-0c7170bac623",
   "metadata": {},
   "outputs": [
    {
     "data": {
      "text/plain": [
       "138.0"
      ]
     },
     "execution_count": 23,
     "metadata": {},
     "output_type": "execute_result"
    }
   ],
   "source": [
    "# Q1 (%25 percentile hesaplama)\n",
    "\n",
    "Q1 = df.boy.quantile(0.25)      # %25 = 0.25\n",
    "Q1"
   ]
  },
  {
   "cell_type": "code",
   "execution_count": 24,
   "id": "c59a0eaa-f592-4bce-8c14-fd725e5a5433",
   "metadata": {},
   "outputs": [
    {
     "data": {
      "text/plain": [
       "149.0"
      ]
     },
     "execution_count": 24,
     "metadata": {},
     "output_type": "execute_result"
    }
   ],
   "source": [
    "Q3 = df.boy.quantile(0.75)   # %75 = 0.75\n",
    "Q3"
   ]
  },
  {
   "cell_type": "markdown",
   "id": "c2fccd81-f68d-47a9-a5c8-270bfde3d405",
   "metadata": {},
   "source": [
    "# pandas kütüphanesinde bulunan quantile() fonksiyonu, belirli yüzdelerdeki veri noktalarını hesaplamak için kullanılır. Bu fonksiyon, bir veri serisinin belirli yüzdelik dilimlerini (quantile) hesaplamak için kullanılır. Örneğin, .25 quantile değeri veri setinin %25'lik kısmını temsil eder.\n",
    "\n",
    "# Quantile işlevi genellikle verilerin dağılımı hakkında daha ayrıntılı bilgi almak ve belirli yüzdelik dilimlerdeki değerleri anlamak için kullanılır. Bu sayede veri setinin merkezi eğilimini ve dağılımını daha ayrıntılı olarak analiz etmek mümkün olur.\n",
    "\n",
    "# Özetle, quantile() fonksiyonu, verilerin yüzdelik dilimlerine göre analiz edilmesine yardımcı olur ve veri setinin dağılımının anlaşılmasına katkıda bulunur.\n",
    "\n",
    "\n",
    "\n",
    "# The quantile() function in the pandas library is used to calculate data points in certain percentages. This function is used to calculate specific percentages (quantiles) of a data series. For example, a quantile value of .25 represents 25% of the data set.\n",
    "\n",
    "# The Quantile function is often used to get more detailed information about the distribution of data and understand values ​​in certain percentiles. In this way, it is possible to analyze the central tendency and distribution of the data set in more detail.\n",
    "\n",
    "# In summary, the quantile() function helps analyze data by percentiles and contributes to understanding the distribution of the data set."
   ]
  },
  {
   "cell_type": "code",
   "execution_count": 26,
   "id": "b4407f52-033c-493a-bb94-09c48f947b2e",
   "metadata": {},
   "outputs": [
    {
     "data": {
      "text/plain": [
       "11.0"
      ]
     },
     "execution_count": 26,
     "metadata": {},
     "output_type": "execute_result"
    }
   ],
   "source": [
    "IQR_degeri = Q3 - Q1\n",
    "IQR_degeri"
   ]
  },
  {
   "cell_type": "code",
   "execution_count": 27,
   "id": "2490dcc9-5afc-4fae-8c7d-1546828ab68b",
   "metadata": {},
   "outputs": [],
   "source": [
    "# alt limit Üst limit bulma (# lower limit Finding upper limit)\n",
    "\n",
    "alt_limit = Q1 - 1.5*IQR_degeri"
   ]
  },
  {
   "cell_type": "code",
   "execution_count": 28,
   "id": "1683ce46-8dfa-44db-a715-a33676d8cb9a",
   "metadata": {},
   "outputs": [
    {
     "data": {
      "text/plain": [
       "121.5"
      ]
     },
     "execution_count": 28,
     "metadata": {},
     "output_type": "execute_result"
    }
   ],
   "source": [
    "alt_limit"
   ]
  },
  {
   "cell_type": "code",
   "execution_count": 29,
   "id": "006485b5-f03e-4568-acf0-b8456f07a9da",
   "metadata": {},
   "outputs": [],
   "source": [
    "ust_limit = Q3 + 1.5*IQR_degeri"
   ]
  },
  {
   "cell_type": "code",
   "execution_count": 30,
   "id": "b8ab2028-6feb-44c9-9f7f-8e219d5a39b4",
   "metadata": {},
   "outputs": [
    {
     "data": {
      "text/plain": [
       "165.5"
      ]
     },
     "execution_count": 30,
     "metadata": {},
     "output_type": "execute_result"
    }
   ],
   "source": [
    "ust_limit"
   ]
  },
  {
   "cell_type": "code",
   "execution_count": 31,
   "id": "d9e528d2-f93d-4438-96f2-c903eaceb780",
   "metadata": {},
   "outputs": [
    {
     "data": {
      "text/plain": [
       "144.0"
      ]
     },
     "execution_count": 31,
     "metadata": {},
     "output_type": "execute_result"
    }
   ],
   "source": [
    "# median\n",
    "Q2 =df.boy.quantile(0.50)       # Yüzde elli dersek medyanı bulur. Medyan tam ortodaki değer.\n",
    "Q2                              # If we say fifty percent, it finds the median. The median is the value in the middle.;"
   ]
  },
  {
   "cell_type": "markdown",
   "id": "816edddd-e0af-47ef-8c46-77c40e3760e5",
   "metadata": {},
   "source": [
    "# Alt ve Üst Limitleri Hesapladığımıza göre Veri Setimizdeki Outlier (Aykırı) Değerleri Bulabiliriz.\n",
    "\n",
    "# Now that we have calculated the lower and upper limits, we can find the outlier values ​​in our data set."
   ]
  },
  {
   "cell_type": "code",
   "execution_count": 33,
   "id": "83654af1-5f7d-4d42-89a4-26c515bab93f",
   "metadata": {},
   "outputs": [
    {
     "data": {
      "text/html": [
       "<div>\n",
       "<style scoped>\n",
       "    .dataframe tbody tr th:only-of-type {\n",
       "        vertical-align: middle;\n",
       "    }\n",
       "\n",
       "    .dataframe tbody tr th {\n",
       "        vertical-align: top;\n",
       "    }\n",
       "\n",
       "    .dataframe thead th {\n",
       "        text-align: right;\n",
       "    }\n",
       "</style>\n",
       "<table border=\"1\" class=\"dataframe\">\n",
       "  <thead>\n",
       "    <tr style=\"text-align: right;\">\n",
       "      <th></th>\n",
       "      <th>isim</th>\n",
       "      <th>boy</th>\n",
       "    </tr>\n",
       "  </thead>\n",
       "  <tbody>\n",
       "    <tr>\n",
       "      <th>0</th>\n",
       "      <td>can</td>\n",
       "      <td>88</td>\n",
       "    </tr>\n",
       "    <tr>\n",
       "      <th>13</th>\n",
       "      <td>veli</td>\n",
       "      <td>207</td>\n",
       "    </tr>\n",
       "    <tr>\n",
       "      <th>14</th>\n",
       "      <td>ilker</td>\n",
       "      <td>234</td>\n",
       "    </tr>\n",
       "  </tbody>\n",
       "</table>\n",
       "</div>"
      ],
      "text/plain": [
       "     isim  boy\n",
       "0     can   88\n",
       "13   veli  207\n",
       "14  ilker  234"
      ]
     },
     "execution_count": 33,
     "metadata": {},
     "output_type": "execute_result"
    }
   ],
   "source": [
    "df[(df.boy < alt_limit) | (df.boy > ust_limit)]"
   ]
  },
  {
   "cell_type": "code",
   "execution_count": 46,
   "id": "4f65e3f7-9fa2-465b-8ac8-596a9a5e85b7",
   "metadata": {},
   "outputs": [],
   "source": [
    "# Aykırı değerler çıkaralım. (# Let's remove outliers.)"
   ]
  },
  {
   "cell_type": "code",
   "execution_count": 48,
   "id": "f630b318-02b9-4f93-bb78-919322df47bb",
   "metadata": {},
   "outputs": [],
   "source": [
    "df_outlier_filtrelenmis = df[(df.boy > alt_limit) & (df.boy < ust_limit)]"
   ]
  },
  {
   "cell_type": "code",
   "execution_count": 52,
   "id": "516285ac-2bb4-455e-befd-59f833312907",
   "metadata": {},
   "outputs": [
    {
     "data": {
      "text/html": [
       "<div>\n",
       "<style scoped>\n",
       "    .dataframe tbody tr th:only-of-type {\n",
       "        vertical-align: middle;\n",
       "    }\n",
       "\n",
       "    .dataframe tbody tr th {\n",
       "        vertical-align: top;\n",
       "    }\n",
       "\n",
       "    .dataframe thead th {\n",
       "        text-align: right;\n",
       "    }\n",
       "</style>\n",
       "<table border=\"1\" class=\"dataframe\">\n",
       "  <thead>\n",
       "    <tr style=\"text-align: right;\">\n",
       "      <th></th>\n",
       "      <th>isim</th>\n",
       "      <th>boy</th>\n",
       "    </tr>\n",
       "  </thead>\n",
       "  <tbody>\n",
       "    <tr>\n",
       "      <th>1</th>\n",
       "      <td>ali</td>\n",
       "      <td>132</td>\n",
       "    </tr>\n",
       "    <tr>\n",
       "      <th>2</th>\n",
       "      <td>tugce</td>\n",
       "      <td>134</td>\n",
       "    </tr>\n",
       "    <tr>\n",
       "      <th>3</th>\n",
       "      <td>ayse</td>\n",
       "      <td>137</td>\n",
       "    </tr>\n",
       "    <tr>\n",
       "      <th>4</th>\n",
       "      <td>nihan</td>\n",
       "      <td>139</td>\n",
       "    </tr>\n",
       "    <tr>\n",
       "      <th>5</th>\n",
       "      <td>sahin</td>\n",
       "      <td>142</td>\n",
       "    </tr>\n",
       "    <tr>\n",
       "      <th>6</th>\n",
       "      <td>kaan</td>\n",
       "      <td>142</td>\n",
       "    </tr>\n",
       "    <tr>\n",
       "      <th>7</th>\n",
       "      <td>emre</td>\n",
       "      <td>144</td>\n",
       "    </tr>\n",
       "    <tr>\n",
       "      <th>8</th>\n",
       "      <td>bartu</td>\n",
       "      <td>147</td>\n",
       "    </tr>\n",
       "    <tr>\n",
       "      <th>9</th>\n",
       "      <td>ismail</td>\n",
       "      <td>148</td>\n",
       "    </tr>\n",
       "    <tr>\n",
       "      <th>10</th>\n",
       "      <td>gokalp</td>\n",
       "      <td>149</td>\n",
       "    </tr>\n",
       "    <tr>\n",
       "      <th>11</th>\n",
       "      <td>osman</td>\n",
       "      <td>149</td>\n",
       "    </tr>\n",
       "    <tr>\n",
       "      <th>12</th>\n",
       "      <td>filiz</td>\n",
       "      <td>150</td>\n",
       "    </tr>\n",
       "  </tbody>\n",
       "</table>\n",
       "</div>"
      ],
      "text/plain": [
       "      isim  boy\n",
       "1      ali  132\n",
       "2    tugce  134\n",
       "3     ayse  137\n",
       "4    nihan  139\n",
       "5    sahin  142\n",
       "6     kaan  142\n",
       "7     emre  144\n",
       "8    bartu  147\n",
       "9   ismail  148\n",
       "10  gokalp  149\n",
       "11   osman  149\n",
       "12   filiz  150"
      ]
     },
     "execution_count": 52,
     "metadata": {},
     "output_type": "execute_result"
    }
   ],
   "source": [
    "df_outlier_filtrelenmis"
   ]
  },
  {
   "cell_type": "code",
   "execution_count": 54,
   "id": "0fa75ae6-a731-4967-874e-a9a4bb44ae7b",
   "metadata": {},
   "outputs": [],
   "source": [
    "# Yani aykırı değerleri attık. (# So we discarded the outliers.)"
   ]
  },
  {
   "cell_type": "markdown",
   "id": "2afab5fd-c5df-46ba-a295-0fe5cebe439f",
   "metadata": {},
   "source": [
    "###  Jaupyter Notebook'ta uyarı mesajını atmak için satırın en başına\n",
    "\n",
    "# import warnings\n",
    "# warnings.filterwarnings(\"ignore\")\n",
    "\n",
    "# yazmalısın!\n",
    "\n",
    "\n",
    "\n",
    "### To send the warning message in Jaupyter Notebook, add it to the top of the line.\n",
    "\n",
    "# import warnings\n",
    "# warnings.filterwarnings(\"ignore\")\n",
    "\n",
    "# You should write!"
   ]
  },
  {
   "cell_type": "code",
   "execution_count": null,
   "id": "c922e8ba-2f82-452b-8a04-16305e56ea36",
   "metadata": {},
   "outputs": [],
   "source": []
  }
 ],
 "metadata": {
  "kernelspec": {
   "display_name": "Python 3 (ipykernel)",
   "language": "python",
   "name": "python3"
  },
  "language_info": {
   "codemirror_mode": {
    "name": "ipython",
    "version": 3
   },
   "file_extension": ".py",
   "mimetype": "text/x-python",
   "name": "python",
   "nbconvert_exporter": "python",
   "pygments_lexer": "ipython3",
   "version": "3.12.4"
  }
 },
 "nbformat": 4,
 "nbformat_minor": 5
}
